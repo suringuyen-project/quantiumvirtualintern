{
 "cells": [
  {
   "cell_type": "markdown",
   "id": "c5993720",
   "metadata": {},
   "source": [
    "Tasks:\n",
    "\n",
    "- Creating and interpreting high-level summaries of the data\n",
    "\n",
    "- Finding outliers and removing these (if applicable)\n",
    "\n",
    "- Checking data formats and correcting (if applicable)\n",
    "\n",
    "\n",
    "You will also want to derive extra features such as pack size and brand name from the data and define metrics of interest to enable you to **draw insights on who spends on chips and what drives spends for each customer segment**. Remember, our end goal is to form a strategy based on the findings to provide a clear recommendation to Julia the Category Manager so make sure your insights can have a commercial application."
   ]
  },
  {
   "cell_type": "code",
   "execution_count": 189,
   "id": "56708c24",
   "metadata": {},
   "outputs": [],
   "source": [
    "import pandas as pd\n",
    "import numpy as np\n",
    "import matplotlib.pyplot as plt\n",
    "import seaborn as sns"
   ]
  },
  {
   "cell_type": "code",
   "execution_count": 190,
   "id": "56e6ee4d",
   "metadata": {},
   "outputs": [],
   "source": [
    "purchase = pd.read_csv('QVI_purchase_behaviour.csv')\n",
    "transaction = pd.read_csv('QVI_transaction_data.csv')"
   ]
  },
  {
   "cell_type": "markdown",
   "id": "c0548a13",
   "metadata": {},
   "source": [
    "### Purchase Behaviour"
   ]
  },
  {
   "cell_type": "code",
   "execution_count": 191,
   "id": "ed10d109",
   "metadata": {},
   "outputs": [
    {
     "data": {
      "text/html": [
       "<div>\n",
       "<style scoped>\n",
       "    .dataframe tbody tr th:only-of-type {\n",
       "        vertical-align: middle;\n",
       "    }\n",
       "\n",
       "    .dataframe tbody tr th {\n",
       "        vertical-align: top;\n",
       "    }\n",
       "\n",
       "    .dataframe thead th {\n",
       "        text-align: right;\n",
       "    }\n",
       "</style>\n",
       "<table border=\"1\" class=\"dataframe\">\n",
       "  <thead>\n",
       "    <tr style=\"text-align: right;\">\n",
       "      <th></th>\n",
       "      <th>LYLTY_CARD_NBR</th>\n",
       "      <th>LIFESTAGE</th>\n",
       "      <th>PREMIUM_CUSTOMER</th>\n",
       "    </tr>\n",
       "  </thead>\n",
       "  <tbody>\n",
       "    <tr>\n",
       "      <th>0</th>\n",
       "      <td>1000</td>\n",
       "      <td>YOUNG SINGLES/COUPLES</td>\n",
       "      <td>Premium</td>\n",
       "    </tr>\n",
       "    <tr>\n",
       "      <th>1</th>\n",
       "      <td>1002</td>\n",
       "      <td>YOUNG SINGLES/COUPLES</td>\n",
       "      <td>Mainstream</td>\n",
       "    </tr>\n",
       "    <tr>\n",
       "      <th>2</th>\n",
       "      <td>1003</td>\n",
       "      <td>YOUNG FAMILIES</td>\n",
       "      <td>Budget</td>\n",
       "    </tr>\n",
       "    <tr>\n",
       "      <th>3</th>\n",
       "      <td>1004</td>\n",
       "      <td>OLDER SINGLES/COUPLES</td>\n",
       "      <td>Mainstream</td>\n",
       "    </tr>\n",
       "    <tr>\n",
       "      <th>4</th>\n",
       "      <td>1005</td>\n",
       "      <td>MIDAGE SINGLES/COUPLES</td>\n",
       "      <td>Mainstream</td>\n",
       "    </tr>\n",
       "  </tbody>\n",
       "</table>\n",
       "</div>"
      ],
      "text/plain": [
       "   LYLTY_CARD_NBR               LIFESTAGE PREMIUM_CUSTOMER\n",
       "0            1000   YOUNG SINGLES/COUPLES          Premium\n",
       "1            1002   YOUNG SINGLES/COUPLES       Mainstream\n",
       "2            1003          YOUNG FAMILIES           Budget\n",
       "3            1004   OLDER SINGLES/COUPLES       Mainstream\n",
       "4            1005  MIDAGE SINGLES/COUPLES       Mainstream"
      ]
     },
     "execution_count": 191,
     "metadata": {},
     "output_type": "execute_result"
    }
   ],
   "source": [
    "purchase.head()"
   ]
  },
  {
   "cell_type": "markdown",
   "id": "a8e23e76",
   "metadata": {},
   "source": [
    "- LYLTY_CARD_NBR: loyalty card number \n",
    "\n",
    "- LIFESTAGE: Customer attribute that identifies whether a customer has a family or not and what point in life they are at e.g. are their children in pre-school/primary/secondary school.\n",
    "\n",
    "- PREMIUM_CUSTOMER: Customer segmentation used to differentiate shoppers by the price point of products they buy and the types of products they buy. It is used to identify whether customers may spend more for quality or brand or whether they will purchase the cheapest options."
   ]
  },
  {
   "cell_type": "code",
   "execution_count": 192,
   "id": "ff71430d",
   "metadata": {},
   "outputs": [
    {
     "name": "stdout",
     "output_type": "stream",
     "text": [
      "<class 'pandas.core.frame.DataFrame'>\n",
      "RangeIndex: 72637 entries, 0 to 72636\n",
      "Data columns (total 3 columns):\n",
      " #   Column            Non-Null Count  Dtype \n",
      "---  ------            --------------  ----- \n",
      " 0   LYLTY_CARD_NBR    72637 non-null  int64 \n",
      " 1   LIFESTAGE         72637 non-null  object\n",
      " 2   PREMIUM_CUSTOMER  72637 non-null  object\n",
      "dtypes: int64(1), object(2)\n",
      "memory usage: 1.7+ MB\n"
     ]
    }
   ],
   "source": [
    "purchase.info()"
   ]
  },
  {
   "cell_type": "code",
   "execution_count": 193,
   "id": "73e0222f",
   "metadata": {},
   "outputs": [
    {
     "data": {
      "text/html": [
       "<div>\n",
       "<style scoped>\n",
       "    .dataframe tbody tr th:only-of-type {\n",
       "        vertical-align: middle;\n",
       "    }\n",
       "\n",
       "    .dataframe tbody tr th {\n",
       "        vertical-align: top;\n",
       "    }\n",
       "\n",
       "    .dataframe thead th {\n",
       "        text-align: right;\n",
       "    }\n",
       "</style>\n",
       "<table border=\"1\" class=\"dataframe\">\n",
       "  <thead>\n",
       "    <tr style=\"text-align: right;\">\n",
       "      <th></th>\n",
       "      <th>LYLTY_CARD_NBR</th>\n",
       "      <th>LIFESTAGE</th>\n",
       "      <th>PREMIUM_CUSTOMER</th>\n",
       "    </tr>\n",
       "  </thead>\n",
       "  <tbody>\n",
       "    <tr>\n",
       "      <th>count</th>\n",
       "      <td>72637.00</td>\n",
       "      <td>72637</td>\n",
       "      <td>72637</td>\n",
       "    </tr>\n",
       "    <tr>\n",
       "      <th>unique</th>\n",
       "      <td>NaN</td>\n",
       "      <td>7</td>\n",
       "      <td>3</td>\n",
       "    </tr>\n",
       "    <tr>\n",
       "      <th>top</th>\n",
       "      <td>NaN</td>\n",
       "      <td>RETIREES</td>\n",
       "      <td>Mainstream</td>\n",
       "    </tr>\n",
       "    <tr>\n",
       "      <th>freq</th>\n",
       "      <td>NaN</td>\n",
       "      <td>14805</td>\n",
       "      <td>29245</td>\n",
       "    </tr>\n",
       "    <tr>\n",
       "      <th>mean</th>\n",
       "      <td>136185.93</td>\n",
       "      <td>NaN</td>\n",
       "      <td>NaN</td>\n",
       "    </tr>\n",
       "    <tr>\n",
       "      <th>std</th>\n",
       "      <td>89892.93</td>\n",
       "      <td>NaN</td>\n",
       "      <td>NaN</td>\n",
       "    </tr>\n",
       "    <tr>\n",
       "      <th>min</th>\n",
       "      <td>1000.00</td>\n",
       "      <td>NaN</td>\n",
       "      <td>NaN</td>\n",
       "    </tr>\n",
       "    <tr>\n",
       "      <th>25%</th>\n",
       "      <td>66202.00</td>\n",
       "      <td>NaN</td>\n",
       "      <td>NaN</td>\n",
       "    </tr>\n",
       "    <tr>\n",
       "      <th>50%</th>\n",
       "      <td>134040.00</td>\n",
       "      <td>NaN</td>\n",
       "      <td>NaN</td>\n",
       "    </tr>\n",
       "    <tr>\n",
       "      <th>75%</th>\n",
       "      <td>203375.00</td>\n",
       "      <td>NaN</td>\n",
       "      <td>NaN</td>\n",
       "    </tr>\n",
       "    <tr>\n",
       "      <th>max</th>\n",
       "      <td>2373711.00</td>\n",
       "      <td>NaN</td>\n",
       "      <td>NaN</td>\n",
       "    </tr>\n",
       "  </tbody>\n",
       "</table>\n",
       "</div>"
      ],
      "text/plain": [
       "        LYLTY_CARD_NBR LIFESTAGE PREMIUM_CUSTOMER\n",
       "count         72637.00     72637            72637\n",
       "unique             NaN         7                3\n",
       "top                NaN  RETIREES       Mainstream\n",
       "freq               NaN     14805            29245\n",
       "mean         136185.93       NaN              NaN\n",
       "std           89892.93       NaN              NaN\n",
       "min            1000.00       NaN              NaN\n",
       "25%           66202.00       NaN              NaN\n",
       "50%          134040.00       NaN              NaN\n",
       "75%          203375.00       NaN              NaN\n",
       "max         2373711.00       NaN              NaN"
      ]
     },
     "execution_count": 193,
     "metadata": {},
     "output_type": "execute_result"
    }
   ],
   "source": [
    "purchase.describe(include ='all').round(2)"
   ]
  },
  {
   "cell_type": "code",
   "execution_count": 194,
   "id": "f879f04c",
   "metadata": {},
   "outputs": [
    {
     "data": {
      "text/plain": [
       "72637"
      ]
     },
     "execution_count": 194,
     "metadata": {},
     "output_type": "execute_result"
    }
   ],
   "source": [
    "purchase['LYLTY_CARD_NBR'].nunique()"
   ]
  },
  {
   "cell_type": "markdown",
   "id": "a2a74737",
   "metadata": {},
   "source": [
    "No null $\\rightarrow$ doesn't need cleaning\n",
    "\n",
    "LYLY_CARD_NBR: can't have outliers (similar to an ID)"
   ]
  },
  {
   "cell_type": "code",
   "execution_count": 195,
   "id": "35eb3d83",
   "metadata": {},
   "outputs": [
    {
     "data": {
      "text/plain": [
       "LIFESTAGE\n",
       "RETIREES                  14805\n",
       "OLDER SINGLES/COUPLES     14609\n",
       "YOUNG SINGLES/COUPLES     14441\n",
       "OLDER FAMILIES             9780\n",
       "YOUNG FAMILIES             9178\n",
       "MIDAGE SINGLES/COUPLES     7275\n",
       "NEW FAMILIES               2549\n",
       "Name: count, dtype: int64"
      ]
     },
     "execution_count": 195,
     "metadata": {},
     "output_type": "execute_result"
    }
   ],
   "source": [
    "purchase['LIFESTAGE'].value_counts()"
   ]
  },
  {
   "cell_type": "code",
   "execution_count": 196,
   "id": "ebfa6f6e",
   "metadata": {},
   "outputs": [
    {
     "data": {
      "text/plain": [
       "<Axes: xlabel='LIFESTAGE', ylabel='Count'>"
      ]
     },
     "execution_count": 196,
     "metadata": {},
     "output_type": "execute_result"
    },
    {
     "data": {
      "image/png": "[encoded data removed]",
      "text/plain": [
       "<Figure size 2000x800 with 1 Axes>"
      ]
     },
     "metadata": {},
     "output_type": "display_data"
    }
   ],
   "source": [
    "sns.set_theme(rc={'figure.figsize':(20,8)})\n",
    "sns.histplot(purchase['LIFESTAGE'])"
   ]
  },
  {
   "cell_type": "code",
   "execution_count": 197,
   "id": "95a6626f",
   "metadata": {},
   "outputs": [
    {
     "data": {
      "text/plain": [
       "([<matplotlib.patches.Wedge at 0x282c9e710>,\n",
       "  <matplotlib.patches.Wedge at 0x282029650>,\n",
       "  <matplotlib.patches.Wedge at 0x282027c10>,\n",
       "  <matplotlib.patches.Wedge at 0x2820263d0>,\n",
       "  <matplotlib.patches.Wedge at 0x282024d50>,\n",
       "  <matplotlib.patches.Wedge at 0x282022f50>,\n",
       "  <matplotlib.patches.Wedge at 0x2820211d0>],\n",
       " [Text(0.8820918503599302, 0.657201618629013, 'RETIREES'),\n",
       "  Text(-0.3685995579118257, 1.0364045377685331, 'OLDER SINGLES/COUPLES'),\n",
       "  Text(-1.099589081641277, -0.030064123724020408, 'YOUNG SINGLES/COUPLES'),\n",
       "  Text(-0.5233956450661755, -0.967500386938301, 'OLDER FAMILIES'),\n",
       "  Text(0.35025445933678395, -1.0427472434462233, 'YOUNG FAMILIES'),\n",
       "  Text(0.9462172838224407, -0.560957085520526, 'MIDAGE SINGLES/COUPLES'),\n",
       "  Text(1.0933220057309005, -0.12102475690767187, 'NEW FAMILIES')],\n",
       " [Text(0.4811410092872346, 0.3584736101612798, '20.38%'),\n",
       "  Text(-0.20105430431554125, 0.5653115660555635, '20.11%'),\n",
       "  Text(-0.5997758627134238, -0.016398612940374764, '19.88%'),\n",
       "  Text(-0.28548853367245935, -0.5277274837845277, '13.46%'),\n",
       "  Text(0.19104788691097305, -0.56877122369794, '12.64%'),\n",
       "  Text(0.516118518448604, -0.30597659210210504, '10.02%'),\n",
       "  Text(0.5963574576714002, -0.066013503767821, '3.51%')])"
      ]
     },
     "execution_count": 197,
     "metadata": {},
     "output_type": "execute_result"
    },
    {
     "data": {
      "image/png": "[encoded data removed]",
      "text/plain": [
       "<Figure size 2000x800 with 1 Axes>"
      ]
     },
     "metadata": {},
     "output_type": "display_data"
    }
   ],
   "source": [
    "label1 = ['RETIREES',\n",
    "'OLDER SINGLES/COUPLES',\n",
    "'YOUNG SINGLES/COUPLES',\n",
    "'OLDER FAMILIES',\n",
    "'YOUNG FAMILIES',\n",
    "'MIDAGE SINGLES/COUPLES',\n",
    "'NEW FAMILIES']\n",
    "plt.pie(purchase['LIFESTAGE'].value_counts(),labels = label1,autopct='%.2f%%')"
   ]
  },
  {
   "cell_type": "markdown",
   "id": "19f3b7ad",
   "metadata": {},
   "source": [
    "Most customers are retireers, following by older single/ couples and young single/couples."
   ]
  },
  {
   "cell_type": "code",
   "execution_count": 198,
   "id": "d25e6c73",
   "metadata": {},
   "outputs": [
    {
     "data": {
      "text/plain": [
       "PREMIUM_CUSTOMER\n",
       "Mainstream    29245\n",
       "Budget        24470\n",
       "Premium       18922\n",
       "Name: count, dtype: int64"
      ]
     },
     "execution_count": 198,
     "metadata": {},
     "output_type": "execute_result"
    }
   ],
   "source": [
    "purchase['PREMIUM_CUSTOMER'].value_counts()"
   ]
  },
  {
   "cell_type": "code",
   "execution_count": 199,
   "id": "07378d0c",
   "metadata": {},
   "outputs": [
    {
     "data": {
      "text/plain": [
       "<Axes: xlabel='PREMIUM_CUSTOMER', ylabel='Count'>"
      ]
     },
     "execution_count": 199,
     "metadata": {},
     "output_type": "execute_result"
    },
    {
     "data": {
      "image/png": "[encoded data removed]",
      "text/plain": [
       "<Figure size 2000x800 with 1 Axes>"
      ]
     },
     "metadata": {},
     "output_type": "display_data"
    }
   ],
   "source": [
    "sns.histplot(purchase['PREMIUM_CUSTOMER'])"
   ]
  },
  {
   "cell_type": "code",
   "execution_count": 200,
   "id": "596aa595",
   "metadata": {},
   "outputs": [
    {
     "data": {
      "text/plain": [
       "([<matplotlib.patches.Wedge at 0x281fdb1d0>,\n",
       "  <matplotlib.patches.Wedge at 0x281fd9b90>,\n",
       "  <matplotlib.patches.Wedge at 0x281fd8210>],\n",
       " [Text(0.3313012950599338, 1.048922996168742, 'Premium'),\n",
       "  Text(-0.9921718718009669, -0.47496839558750203, 'Mainstream'),\n",
       "  Text(0.7517391805770921, -0.8030493162846739, 'Budget')],\n",
       " [Text(0.1807097973054184, 0.572139816092041, '40.26%'),\n",
       "  Text(-0.5411846573459819, -0.25907367032045564, '33.69%'),\n",
       "  Text(0.4100395530420502, -0.4380268997916403, '26.05%')])"
      ]
     },
     "execution_count": 200,
     "metadata": {},
     "output_type": "execute_result"
    },
    {
     "data": {
      "image/png": "[encoded data removed]",
      "text/plain": [
       "<Figure size 2000x800 with 1 Axes>"
      ]
     },
     "metadata": {},
     "output_type": "display_data"
    }
   ],
   "source": [
    "label2 = ['Premium','Mainstream','Budget']\n",
    "plt.pie(purchase['PREMIUM_CUSTOMER'].value_counts(),labels = label2,autopct='%.2f%%')"
   ]
  },
  {
   "cell_type": "markdown",
   "id": "965b5249",
   "metadata": {},
   "source": [
    "Most customers are Mainstream, following by Budget and finally Premium."
   ]
  },
  {
   "cell_type": "markdown",
   "id": "775c2e91",
   "metadata": {},
   "source": [
    "### Transaction Data"
   ]
  },
  {
   "cell_type": "code",
   "execution_count": 201,
   "id": "104b385b",
   "metadata": {},
   "outputs": [
    {
     "data": {
      "text/html": [
       "<div>\n",
       "<style scoped>\n",
       "    .dataframe tbody tr th:only-of-type {\n",
       "        vertical-align: middle;\n",
       "    }\n",
       "\n",
       "    .dataframe tbody tr th {\n",
       "        vertical-align: top;\n",
       "    }\n",
       "\n",
       "    .dataframe thead th {\n",
       "        text-align: right;\n",
       "    }\n",
       "</style>\n",
       "<table border=\"1\" class=\"dataframe\">\n",
       "  <thead>\n",
       "    <tr style=\"text-align: right;\">\n",
       "      <th></th>\n",
       "      <th>DATE</th>\n",
       "      <th>STORE_NBR</th>\n",
       "      <th>LYLTY_CARD_NBR</th>\n",
       "      <th>TXN_ID</th>\n",
       "      <th>PROD_NBR</th>\n",
       "      <th>PROD_NAME</th>\n",
       "      <th>PROD_QTY</th>\n",
       "      <th>TOT_SALES</th>\n",
       "    </tr>\n",
       "  </thead>\n",
       "  <tbody>\n",
       "    <tr>\n",
       "      <th>0</th>\n",
       "      <td>43390</td>\n",
       "      <td>1</td>\n",
       "      <td>1000</td>\n",
       "      <td>1</td>\n",
       "      <td>5</td>\n",
       "      <td>Natural Chip        Compny SeaSalt175g</td>\n",
       "      <td>2</td>\n",
       "      <td>6.0</td>\n",
       "    </tr>\n",
       "    <tr>\n",
       "      <th>1</th>\n",
       "      <td>43599</td>\n",
       "      <td>1</td>\n",
       "      <td>1307</td>\n",
       "      <td>348</td>\n",
       "      <td>66</td>\n",
       "      <td>CCs Nacho Cheese    175g</td>\n",
       "      <td>3</td>\n",
       "      <td>6.3</td>\n",
       "    </tr>\n",
       "    <tr>\n",
       "      <th>2</th>\n",
       "      <td>43605</td>\n",
       "      <td>1</td>\n",
       "      <td>1343</td>\n",
       "      <td>383</td>\n",
       "      <td>61</td>\n",
       "      <td>Smiths Crinkle Cut  Chips Chicken 170g</td>\n",
       "      <td>2</td>\n",
       "      <td>2.9</td>\n",
       "    </tr>\n",
       "    <tr>\n",
       "      <th>3</th>\n",
       "      <td>43329</td>\n",
       "      <td>2</td>\n",
       "      <td>2373</td>\n",
       "      <td>974</td>\n",
       "      <td>69</td>\n",
       "      <td>Smiths Chip Thinly  S/Cream&amp;Onion 175g</td>\n",
       "      <td>5</td>\n",
       "      <td>15.0</td>\n",
       "    </tr>\n",
       "    <tr>\n",
       "      <th>4</th>\n",
       "      <td>43330</td>\n",
       "      <td>2</td>\n",
       "      <td>2426</td>\n",
       "      <td>1038</td>\n",
       "      <td>108</td>\n",
       "      <td>Kettle Tortilla ChpsHny&amp;Jlpno Chili 150g</td>\n",
       "      <td>3</td>\n",
       "      <td>13.8</td>\n",
       "    </tr>\n",
       "  </tbody>\n",
       "</table>\n",
       "</div>"
      ],
      "text/plain": [
       "    DATE  STORE_NBR  LYLTY_CARD_NBR  TXN_ID  PROD_NBR  \\\n",
       "0  43390          1            1000       1         5   \n",
       "1  43599          1            1307     348        66   \n",
       "2  43605          1            1343     383        61   \n",
       "3  43329          2            2373     974        69   \n",
       "4  43330          2            2426    1038       108   \n",
       "\n",
       "                                  PROD_NAME  PROD_QTY  TOT_SALES  \n",
       "0    Natural Chip        Compny SeaSalt175g         2        6.0  \n",
       "1                  CCs Nacho Cheese    175g         3        6.3  \n",
       "2    Smiths Crinkle Cut  Chips Chicken 170g         2        2.9  \n",
       "3    Smiths Chip Thinly  S/Cream&Onion 175g         5       15.0  \n",
       "4  Kettle Tortilla ChpsHny&Jlpno Chili 150g         3       13.8  "
      ]
     },
     "execution_count": 201,
     "metadata": {},
     "output_type": "execute_result"
    }
   ],
   "source": [
    "transaction.head()"
   ]
  },
  {
   "cell_type": "code",
   "execution_count": 202,
   "id": "9af0b49d",
   "metadata": {},
   "outputs": [
    {
     "name": "stdout",
     "output_type": "stream",
     "text": [
      "<class 'pandas.core.frame.DataFrame'>\n",
      "RangeIndex: 264836 entries, 0 to 264835\n",
      "Data columns (total 8 columns):\n",
      " #   Column          Non-Null Count   Dtype  \n",
      "---  ------          --------------   -----  \n",
      " 0   DATE            264836 non-null  int64  \n",
      " 1   STORE_NBR       264836 non-null  int64  \n",
      " 2   LYLTY_CARD_NBR  264836 non-null  int64  \n",
      " 3   TXN_ID          264836 non-null  int64  \n",
      " 4   PROD_NBR        264836 non-null  int64  \n",
      " 5   PROD_NAME       264836 non-null  object \n",
      " 6   PROD_QTY        264836 non-null  int64  \n",
      " 7   TOT_SALES       264836 non-null  float64\n",
      "dtypes: float64(1), int64(6), object(1)\n",
      "memory usage: 16.2+ MB\n"
     ]
    }
   ],
   "source": [
    "transaction.info()"
   ]
  },
  {
   "cell_type": "code",
   "execution_count": 203,
   "id": "84bc5733",
   "metadata": {},
   "outputs": [
    {
     "data": {
      "text/html": [
       "<div>\n",
       "<style scoped>\n",
       "    .dataframe tbody tr th:only-of-type {\n",
       "        vertical-align: middle;\n",
       "    }\n",
       "\n",
       "    .dataframe tbody tr th {\n",
       "        vertical-align: top;\n",
       "    }\n",
       "\n",
       "    .dataframe thead th {\n",
       "        text-align: right;\n",
       "    }\n",
       "</style>\n",
       "<table border=\"1\" class=\"dataframe\">\n",
       "  <thead>\n",
       "    <tr style=\"text-align: right;\">\n",
       "      <th></th>\n",
       "      <th>DATE</th>\n",
       "      <th>STORE_NBR</th>\n",
       "      <th>LYLTY_CARD_NBR</th>\n",
       "      <th>TXN_ID</th>\n",
       "      <th>PROD_NBR</th>\n",
       "      <th>PROD_NAME</th>\n",
       "      <th>PROD_QTY</th>\n",
       "      <th>TOT_SALES</th>\n",
       "    </tr>\n",
       "  </thead>\n",
       "  <tbody>\n",
       "    <tr>\n",
       "      <th>count</th>\n",
       "      <td>264836.00</td>\n",
       "      <td>264836.00</td>\n",
       "      <td>264836.00</td>\n",
       "      <td>264836.00</td>\n",
       "      <td>264836.00</td>\n",
       "      <td>264836</td>\n",
       "      <td>264836.00</td>\n",
       "      <td>264836.00</td>\n",
       "    </tr>\n",
       "    <tr>\n",
       "      <th>unique</th>\n",
       "      <td>NaN</td>\n",
       "      <td>NaN</td>\n",
       "      <td>NaN</td>\n",
       "      <td>NaN</td>\n",
       "      <td>NaN</td>\n",
       "      <td>114</td>\n",
       "      <td>NaN</td>\n",
       "      <td>NaN</td>\n",
       "    </tr>\n",
       "    <tr>\n",
       "      <th>top</th>\n",
       "      <td>NaN</td>\n",
       "      <td>NaN</td>\n",
       "      <td>NaN</td>\n",
       "      <td>NaN</td>\n",
       "      <td>NaN</td>\n",
       "      <td>Kettle Mozzarella   Basil &amp; Pesto 175g</td>\n",
       "      <td>NaN</td>\n",
       "      <td>NaN</td>\n",
       "    </tr>\n",
       "    <tr>\n",
       "      <th>freq</th>\n",
       "      <td>NaN</td>\n",
       "      <td>NaN</td>\n",
       "      <td>NaN</td>\n",
       "      <td>NaN</td>\n",
       "      <td>NaN</td>\n",
       "      <td>3304</td>\n",
       "      <td>NaN</td>\n",
       "      <td>NaN</td>\n",
       "    </tr>\n",
       "    <tr>\n",
       "      <th>mean</th>\n",
       "      <td>43464.04</td>\n",
       "      <td>135.08</td>\n",
       "      <td>135549.48</td>\n",
       "      <td>135158.31</td>\n",
       "      <td>56.58</td>\n",
       "      <td>NaN</td>\n",
       "      <td>1.91</td>\n",
       "      <td>7.30</td>\n",
       "    </tr>\n",
       "    <tr>\n",
       "      <th>std</th>\n",
       "      <td>105.39</td>\n",
       "      <td>76.78</td>\n",
       "      <td>80579.98</td>\n",
       "      <td>78133.03</td>\n",
       "      <td>32.83</td>\n",
       "      <td>NaN</td>\n",
       "      <td>0.64</td>\n",
       "      <td>3.08</td>\n",
       "    </tr>\n",
       "    <tr>\n",
       "      <th>min</th>\n",
       "      <td>43282.00</td>\n",
       "      <td>1.00</td>\n",
       "      <td>1000.00</td>\n",
       "      <td>1.00</td>\n",
       "      <td>1.00</td>\n",
       "      <td>NaN</td>\n",
       "      <td>1.00</td>\n",
       "      <td>1.50</td>\n",
       "    </tr>\n",
       "    <tr>\n",
       "      <th>25%</th>\n",
       "      <td>43373.00</td>\n",
       "      <td>70.00</td>\n",
       "      <td>70021.00</td>\n",
       "      <td>67601.50</td>\n",
       "      <td>28.00</td>\n",
       "      <td>NaN</td>\n",
       "      <td>2.00</td>\n",
       "      <td>5.40</td>\n",
       "    </tr>\n",
       "    <tr>\n",
       "      <th>50%</th>\n",
       "      <td>43464.00</td>\n",
       "      <td>130.00</td>\n",
       "      <td>130357.50</td>\n",
       "      <td>135137.50</td>\n",
       "      <td>56.00</td>\n",
       "      <td>NaN</td>\n",
       "      <td>2.00</td>\n",
       "      <td>7.40</td>\n",
       "    </tr>\n",
       "    <tr>\n",
       "      <th>75%</th>\n",
       "      <td>43555.00</td>\n",
       "      <td>203.00</td>\n",
       "      <td>203094.25</td>\n",
       "      <td>202701.25</td>\n",
       "      <td>85.00</td>\n",
       "      <td>NaN</td>\n",
       "      <td>2.00</td>\n",
       "      <td>9.20</td>\n",
       "    </tr>\n",
       "    <tr>\n",
       "      <th>max</th>\n",
       "      <td>43646.00</td>\n",
       "      <td>272.00</td>\n",
       "      <td>2373711.00</td>\n",
       "      <td>2415841.00</td>\n",
       "      <td>114.00</td>\n",
       "      <td>NaN</td>\n",
       "      <td>200.00</td>\n",
       "      <td>650.00</td>\n",
       "    </tr>\n",
       "  </tbody>\n",
       "</table>\n",
       "</div>"
      ],
      "text/plain": [
       "             DATE  STORE_NBR  LYLTY_CARD_NBR      TXN_ID   PROD_NBR  \\\n",
       "count   264836.00  264836.00       264836.00   264836.00  264836.00   \n",
       "unique        NaN        NaN             NaN         NaN        NaN   \n",
       "top           NaN        NaN             NaN         NaN        NaN   \n",
       "freq          NaN        NaN             NaN         NaN        NaN   \n",
       "mean     43464.04     135.08       135549.48   135158.31      56.58   \n",
       "std        105.39      76.78        80579.98    78133.03      32.83   \n",
       "min      43282.00       1.00         1000.00        1.00       1.00   \n",
       "25%      43373.00      70.00        70021.00    67601.50      28.00   \n",
       "50%      43464.00     130.00       130357.50   135137.50      56.00   \n",
       "75%      43555.00     203.00       203094.25   202701.25      85.00   \n",
       "max      43646.00     272.00      2373711.00  2415841.00     114.00   \n",
       "\n",
       "                                     PROD_NAME   PROD_QTY  TOT_SALES  \n",
       "count                                   264836  264836.00  264836.00  \n",
       "unique                                     114        NaN        NaN  \n",
       "top     Kettle Mozzarella   Basil & Pesto 175g        NaN        NaN  \n",
       "freq                                      3304        NaN        NaN  \n",
       "mean                                       NaN       1.91       7.30  \n",
       "std                                        NaN       0.64       3.08  \n",
       "min                                        NaN       1.00       1.50  \n",
       "25%                                        NaN       2.00       5.40  \n",
       "50%                                        NaN       2.00       7.40  \n",
       "75%                                        NaN       2.00       9.20  \n",
       "max                                        NaN     200.00     650.00  "
      ]
     },
     "execution_count": 203,
     "metadata": {},
     "output_type": "execute_result"
    }
   ],
   "source": [
    "transaction.describe(include = 'all').round(2)"
   ]
  },
  {
   "cell_type": "markdown",
   "id": "5646d731",
   "metadata": {},
   "source": [
    "No null \n",
    "\n",
    "Should change date format for better intepretation\n",
    "\n",
    "PROD_QTY have a large range (min 2 and max 200) so there's potential outliers that might affect the analysis."
   ]
  },
  {
   "cell_type": "code",
   "execution_count": 204,
   "id": "88042923",
   "metadata": {},
   "outputs": [],
   "source": [
    "transaction['DATE'] = pd.to_datetime(transaction['DATE'],origin='1899-12-30', unit='D')"
   ]
  },
  {
   "cell_type": "code",
   "execution_count": 205,
   "id": "231cfa53",
   "metadata": {},
   "outputs": [
    {
     "data": {
      "text/html": [
       "<div>\n",
       "<style scoped>\n",
       "    .dataframe tbody tr th:only-of-type {\n",
       "        vertical-align: middle;\n",
       "    }\n",
       "\n",
       "    .dataframe tbody tr th {\n",
       "        vertical-align: top;\n",
       "    }\n",
       "\n",
       "    .dataframe thead th {\n",
       "        text-align: right;\n",
       "    }\n",
       "</style>\n",
       "<table border=\"1\" class=\"dataframe\">\n",
       "  <thead>\n",
       "    <tr style=\"text-align: right;\">\n",
       "      <th></th>\n",
       "      <th>DATE</th>\n",
       "      <th>STORE_NBR</th>\n",
       "      <th>LYLTY_CARD_NBR</th>\n",
       "      <th>TXN_ID</th>\n",
       "      <th>PROD_NBR</th>\n",
       "      <th>PROD_NAME</th>\n",
       "      <th>PROD_QTY</th>\n",
       "      <th>TOT_SALES</th>\n",
       "    </tr>\n",
       "  </thead>\n",
       "  <tbody>\n",
       "    <tr>\n",
       "      <th>0</th>\n",
       "      <td>2018-10-17</td>\n",
       "      <td>1</td>\n",
       "      <td>1000</td>\n",
       "      <td>1</td>\n",
       "      <td>5</td>\n",
       "      <td>Natural Chip        Compny SeaSalt175g</td>\n",
       "      <td>2</td>\n",
       "      <td>6.0</td>\n",
       "    </tr>\n",
       "    <tr>\n",
       "      <th>1</th>\n",
       "      <td>2019-05-14</td>\n",
       "      <td>1</td>\n",
       "      <td>1307</td>\n",
       "      <td>348</td>\n",
       "      <td>66</td>\n",
       "      <td>CCs Nacho Cheese    175g</td>\n",
       "      <td>3</td>\n",
       "      <td>6.3</td>\n",
       "    </tr>\n",
       "    <tr>\n",
       "      <th>2</th>\n",
       "      <td>2019-05-20</td>\n",
       "      <td>1</td>\n",
       "      <td>1343</td>\n",
       "      <td>383</td>\n",
       "      <td>61</td>\n",
       "      <td>Smiths Crinkle Cut  Chips Chicken 170g</td>\n",
       "      <td>2</td>\n",
       "      <td>2.9</td>\n",
       "    </tr>\n",
       "    <tr>\n",
       "      <th>3</th>\n",
       "      <td>2018-08-17</td>\n",
       "      <td>2</td>\n",
       "      <td>2373</td>\n",
       "      <td>974</td>\n",
       "      <td>69</td>\n",
       "      <td>Smiths Chip Thinly  S/Cream&amp;Onion 175g</td>\n",
       "      <td>5</td>\n",
       "      <td>15.0</td>\n",
       "    </tr>\n",
       "    <tr>\n",
       "      <th>4</th>\n",
       "      <td>2018-08-18</td>\n",
       "      <td>2</td>\n",
       "      <td>2426</td>\n",
       "      <td>1038</td>\n",
       "      <td>108</td>\n",
       "      <td>Kettle Tortilla ChpsHny&amp;Jlpno Chili 150g</td>\n",
       "      <td>3</td>\n",
       "      <td>13.8</td>\n",
       "    </tr>\n",
       "  </tbody>\n",
       "</table>\n",
       "</div>"
      ],
      "text/plain": [
       "        DATE  STORE_NBR  LYLTY_CARD_NBR  TXN_ID  PROD_NBR  \\\n",
       "0 2018-10-17          1            1000       1         5   \n",
       "1 2019-05-14          1            1307     348        66   \n",
       "2 2019-05-20          1            1343     383        61   \n",
       "3 2018-08-17          2            2373     974        69   \n",
       "4 2018-08-18          2            2426    1038       108   \n",
       "\n",
       "                                  PROD_NAME  PROD_QTY  TOT_SALES  \n",
       "0    Natural Chip        Compny SeaSalt175g         2        6.0  \n",
       "1                  CCs Nacho Cheese    175g         3        6.3  \n",
       "2    Smiths Crinkle Cut  Chips Chicken 170g         2        2.9  \n",
       "3    Smiths Chip Thinly  S/Cream&Onion 175g         5       15.0  \n",
       "4  Kettle Tortilla ChpsHny&Jlpno Chili 150g         3       13.8  "
      ]
     },
     "execution_count": 205,
     "metadata": {},
     "output_type": "execute_result"
    }
   ],
   "source": [
    "transaction.head()"
   ]
  },
  {
   "cell_type": "code",
   "execution_count": 206,
   "id": "f5441d37",
   "metadata": {},
   "outputs": [
    {
     "data": {
      "text/plain": [
       "DATE\n",
       "2018-12-24    939\n",
       "2018-12-23    917\n",
       "2018-12-22    915\n",
       "2018-12-19    906\n",
       "2018-12-18    862\n",
       "             ... \n",
       "2018-12-12    664\n",
       "2019-06-24    662\n",
       "2019-06-13    659\n",
       "2018-10-18    658\n",
       "2018-11-25    648\n",
       "Name: count, Length: 364, dtype: int64"
      ]
     },
     "execution_count": 206,
     "metadata": {},
     "output_type": "execute_result"
    }
   ],
   "source": [
    "transaction['DATE'].value_counts()"
   ]
  },
  {
   "cell_type": "code",
   "execution_count": 207,
   "id": "6b9f2f6b",
   "metadata": {},
   "outputs": [
    {
     "data": {
      "text/plain": [
       "<Axes: xlabel='DATE', ylabel='Count'>"
      ]
     },
     "execution_count": 207,
     "metadata": {},
     "output_type": "execute_result"
    },
    {
     "data": {
      "image/png": "[encoded data removed]",
      "text/plain": [
       "<Figure size 2000x800 with 1 Axes>"
      ]
     },
     "metadata": {},
     "output_type": "display_data"
    }
   ],
   "source": [
    "sns.histplot(transaction['DATE'], bins = 300)"
   ]
  },
  {
   "cell_type": "markdown",
   "id": "b9756517",
   "metadata": {},
   "source": [
    "The highest number of transaction occurs at the end of the year (Christmas Eve). Moreover, over the period, after a few days, the number of transactions will occasionally double. Further analysis on these days can help understand this buying pattern."
   ]
  },
  {
   "cell_type": "code",
   "execution_count": 208,
   "id": "e3d6933a",
   "metadata": {},
   "outputs": [
    {
     "data": {
      "text/plain": [
       "364"
      ]
     },
     "execution_count": 208,
     "metadata": {},
     "output_type": "execute_result"
    }
   ],
   "source": [
    "transaction['DATE'].nunique()"
   ]
  },
  {
   "cell_type": "markdown",
   "id": "772109f8",
   "metadata": {},
   "source": [
    "The data is collected in a year (missing one day- the store might close that day)"
   ]
  },
  {
   "cell_type": "code",
   "execution_count": 209,
   "id": "261bf5f6",
   "metadata": {},
   "outputs": [
    {
     "data": {
      "text/plain": [
       "DatetimeIndex(['2018-12-25'], dtype='datetime64[ns]', freq=None)"
      ]
     },
     "execution_count": 209,
     "metadata": {},
     "output_type": "execute_result"
    }
   ],
   "source": [
    "pd.date_range(start = '2018-07-01', end = '2019-06-30').difference(transaction['DATE'])"
   ]
  },
  {
   "cell_type": "markdown",
   "id": "d0ce17fd",
   "metadata": {},
   "source": [
    "On Christmas (2018-12-25), the store closed so there was no data."
   ]
  },
  {
   "cell_type": "code",
   "execution_count": 210,
   "id": "9e9dd6f9",
   "metadata": {},
   "outputs": [
    {
     "data": {
      "text/plain": [
       "272"
      ]
     },
     "execution_count": 210,
     "metadata": {},
     "output_type": "execute_result"
    }
   ],
   "source": [
    "transaction['STORE_NBR'].nunique()"
   ]
  },
  {
   "cell_type": "markdown",
   "id": "db0c807d",
   "metadata": {},
   "source": [
    "There are 272 stores in total."
   ]
  },
  {
   "cell_type": "code",
   "execution_count": 211,
   "id": "fc949c74",
   "metadata": {},
   "outputs": [
    {
     "data": {
      "text/plain": [
       "72637"
      ]
     },
     "execution_count": 211,
     "metadata": {},
     "output_type": "execute_result"
    }
   ],
   "source": [
    "transaction['LYLTY_CARD_NBR'].nunique() #matches with the purchase dataset"
   ]
  },
  {
   "cell_type": "code",
   "execution_count": 212,
   "id": "b6274b20",
   "metadata": {},
   "outputs": [
    {
     "data": {
      "text/plain": [
       "PROD_QTY\n",
       "2      236039\n",
       "1       27518\n",
       "5         450\n",
       "3         430\n",
       "4         397\n",
       "200         2\n",
       "Name: count, dtype: int64"
      ]
     },
     "execution_count": 212,
     "metadata": {},
     "output_type": "execute_result"
    }
   ],
   "source": [
    "transaction['PROD_QTY'].value_counts()"
   ]
  },
  {
   "cell_type": "code",
   "execution_count": 213,
   "id": "76317789",
   "metadata": {},
   "outputs": [
    {
     "data": {
      "text/html": [
       "<div>\n",
       "<style scoped>\n",
       "    .dataframe tbody tr th:only-of-type {\n",
       "        vertical-align: middle;\n",
       "    }\n",
       "\n",
       "    .dataframe tbody tr th {\n",
       "        vertical-align: top;\n",
       "    }\n",
       "\n",
       "    .dataframe thead th {\n",
       "        text-align: right;\n",
       "    }\n",
       "</style>\n",
       "<table border=\"1\" class=\"dataframe\">\n",
       "  <thead>\n",
       "    <tr style=\"text-align: right;\">\n",
       "      <th></th>\n",
       "      <th>DATE</th>\n",
       "      <th>STORE_NBR</th>\n",
       "      <th>LYLTY_CARD_NBR</th>\n",
       "      <th>TXN_ID</th>\n",
       "      <th>PROD_NBR</th>\n",
       "      <th>PROD_NAME</th>\n",
       "      <th>PROD_QTY</th>\n",
       "      <th>TOT_SALES</th>\n",
       "    </tr>\n",
       "  </thead>\n",
       "  <tbody>\n",
       "    <tr>\n",
       "      <th>69762</th>\n",
       "      <td>2018-08-19</td>\n",
       "      <td>226</td>\n",
       "      <td>226000</td>\n",
       "      <td>226201</td>\n",
       "      <td>4</td>\n",
       "      <td>Dorito Corn Chp     Supreme 380g</td>\n",
       "      <td>200</td>\n",
       "      <td>650.0</td>\n",
       "    </tr>\n",
       "    <tr>\n",
       "      <th>69763</th>\n",
       "      <td>2019-05-20</td>\n",
       "      <td>226</td>\n",
       "      <td>226000</td>\n",
       "      <td>226210</td>\n",
       "      <td>4</td>\n",
       "      <td>Dorito Corn Chp     Supreme 380g</td>\n",
       "      <td>200</td>\n",
       "      <td>650.0</td>\n",
       "    </tr>\n",
       "  </tbody>\n",
       "</table>\n",
       "</div>"
      ],
      "text/plain": [
       "            DATE  STORE_NBR  LYLTY_CARD_NBR  TXN_ID  PROD_NBR  \\\n",
       "69762 2018-08-19        226          226000  226201         4   \n",
       "69763 2019-05-20        226          226000  226210         4   \n",
       "\n",
       "                              PROD_NAME  PROD_QTY  TOT_SALES  \n",
       "69762  Dorito Corn Chp     Supreme 380g       200      650.0  \n",
       "69763  Dorito Corn Chp     Supreme 380g       200      650.0  "
      ]
     },
     "execution_count": 213,
     "metadata": {},
     "output_type": "execute_result"
    }
   ],
   "source": [
    "outlier = transaction[transaction['PROD_QTY'] == 200]\n",
    "outlier"
   ]
  },
  {
   "cell_type": "code",
   "execution_count": 214,
   "id": "95bad2b6",
   "metadata": {
    "scrolled": true
   },
   "outputs": [
    {
     "data": {
      "text/html": [
       "<div>\n",
       "<style scoped>\n",
       "    .dataframe tbody tr th:only-of-type {\n",
       "        vertical-align: middle;\n",
       "    }\n",
       "\n",
       "    .dataframe tbody tr th {\n",
       "        vertical-align: top;\n",
       "    }\n",
       "\n",
       "    .dataframe thead th {\n",
       "        text-align: right;\n",
       "    }\n",
       "</style>\n",
       "<table border=\"1\" class=\"dataframe\">\n",
       "  <thead>\n",
       "    <tr style=\"text-align: right;\">\n",
       "      <th></th>\n",
       "      <th>DATE</th>\n",
       "      <th>STORE_NBR</th>\n",
       "      <th>LYLTY_CARD_NBR</th>\n",
       "      <th>TXN_ID</th>\n",
       "      <th>PROD_NBR</th>\n",
       "      <th>PROD_NAME</th>\n",
       "      <th>PROD_QTY</th>\n",
       "      <th>TOT_SALES</th>\n",
       "    </tr>\n",
       "  </thead>\n",
       "  <tbody>\n",
       "    <tr>\n",
       "      <th>69762</th>\n",
       "      <td>2018-08-19</td>\n",
       "      <td>226</td>\n",
       "      <td>226000</td>\n",
       "      <td>226201</td>\n",
       "      <td>4</td>\n",
       "      <td>Dorito Corn Chp     Supreme 380g</td>\n",
       "      <td>200</td>\n",
       "      <td>650.0</td>\n",
       "    </tr>\n",
       "    <tr>\n",
       "      <th>69763</th>\n",
       "      <td>2019-05-20</td>\n",
       "      <td>226</td>\n",
       "      <td>226000</td>\n",
       "      <td>226210</td>\n",
       "      <td>4</td>\n",
       "      <td>Dorito Corn Chp     Supreme 380g</td>\n",
       "      <td>200</td>\n",
       "      <td>650.0</td>\n",
       "    </tr>\n",
       "  </tbody>\n",
       "</table>\n",
       "</div>"
      ],
      "text/plain": [
       "            DATE  STORE_NBR  LYLTY_CARD_NBR  TXN_ID  PROD_NBR  \\\n",
       "69762 2018-08-19        226          226000  226201         4   \n",
       "69763 2019-05-20        226          226000  226210         4   \n",
       "\n",
       "                              PROD_NAME  PROD_QTY  TOT_SALES  \n",
       "69762  Dorito Corn Chp     Supreme 380g       200      650.0  \n",
       "69763  Dorito Corn Chp     Supreme 380g       200      650.0  "
      ]
     },
     "execution_count": 214,
     "metadata": {},
     "output_type": "execute_result"
    }
   ],
   "source": [
    "customer_outlier = transaction[transaction['LYLTY_CARD_NBR']== 226000]\n",
    "customer_outlier"
   ]
  },
  {
   "cell_type": "markdown",
   "id": "157c88d9",
   "metadata": {},
   "source": [
    "There's one customer that buy 200 Dorito Corn Chp Supreme 380g twice during the period. He or she might be a retailer, buying the chips to sell at his or her store. I will remove this because bulk buying is not coming."
   ]
  },
  {
   "cell_type": "code",
   "execution_count": 215,
   "id": "475cdc3f",
   "metadata": {},
   "outputs": [],
   "source": [
    "transaction = transaction.drop([69762,69763])"
   ]
  },
  {
   "cell_type": "code",
   "execution_count": 216,
   "id": "13cf8c21",
   "metadata": {},
   "outputs": [
    {
     "data": {
      "text/plain": [
       "PROD_QTY\n",
       "2    236039\n",
       "1     27518\n",
       "5       450\n",
       "3       430\n",
       "4       397\n",
       "Name: count, dtype: int64"
      ]
     },
     "execution_count": 216,
     "metadata": {},
     "output_type": "execute_result"
    }
   ],
   "source": [
    "transaction['PROD_QTY'].value_counts()"
   ]
  },
  {
   "cell_type": "code",
   "execution_count": 217,
   "id": "13255580",
   "metadata": {},
   "outputs": [
    {
     "data": {
      "text/plain": [
       "([<matplotlib.patches.Wedge at 0x281f0c750>,\n",
       "  <matplotlib.patches.Wedge at 0x281f0d910>,\n",
       "  <matplotlib.patches.Wedge at 0x281f07c50>,\n",
       "  <matplotlib.patches.Wedge at 0x281f06490>,\n",
       "  <matplotlib.patches.Wedge at 0x281f04a10>],\n",
       " [Text(-1.0364490318674762, 0.3684744283406534, '2'),\n",
       "  Text(1.030748553126235, -0.3841320348892724, '1'),\n",
       "  Text(1.099657406478289, -0.02745156420759464, '5'),\n",
       "  Text(1.0998840523278188, -0.015970955980657564, '3'),\n",
       "  Text(1.0999878025205465, -0.0051801839754275925, '4')],\n",
       " [Text(-0.5653358355640778, 0.20098605182217458, '89.13%'),\n",
       "  Text(0.5622264835234009, -0.20952656448505763, '10.39%'),\n",
       "  Text(0.5998131308063394, -0.014973580476869803, '0.17%'),\n",
       "  Text(0.5999367558151738, -0.008711430534904124, '0.16%'),\n",
       "  Text(0.599993346829389, -0.0028255548956877775, '0.15%')])"
      ]
     },
     "execution_count": 217,
     "metadata": {},
     "output_type": "execute_result"
    },
    {
     "data": {
      "image/png": "[encoded data removed]",
      "text/plain": [
       "<Figure size 2000x800 with 1 Axes>"
      ]
     },
     "metadata": {},
     "output_type": "display_data"
    }
   ],
   "source": [
    "label3 = ['2','1','5','3','4']\n",
    "plt.pie(transaction['PROD_QTY'].value_counts(),labels = label3,autopct='%.2f%%')"
   ]
  },
  {
   "cell_type": "markdown",
   "id": "98048a87",
   "metadata": {},
   "source": [
    "Most customers buy 2 packages of chip per transactions (89%). Might increase sales volume or encourage customers using promotion (ex: buy one get one half price)."
   ]
  },
  {
   "cell_type": "code",
   "execution_count": 218,
   "id": "d4130c51",
   "metadata": {},
   "outputs": [
    {
     "data": {
      "text/html": [
       "<div>\n",
       "<style scoped>\n",
       "    .dataframe tbody tr th:only-of-type {\n",
       "        vertical-align: middle;\n",
       "    }\n",
       "\n",
       "    .dataframe tbody tr th {\n",
       "        vertical-align: top;\n",
       "    }\n",
       "\n",
       "    .dataframe thead th {\n",
       "        text-align: right;\n",
       "    }\n",
       "</style>\n",
       "<table border=\"1\" class=\"dataframe\">\n",
       "  <thead>\n",
       "    <tr style=\"text-align: right;\">\n",
       "      <th></th>\n",
       "      <th>STORE_NBR</th>\n",
       "      <th>PROD_QTY</th>\n",
       "    </tr>\n",
       "  </thead>\n",
       "  <tbody>\n",
       "    <tr>\n",
       "      <th>75</th>\n",
       "      <td>76</td>\n",
       "      <td>2</td>\n",
       "    </tr>\n",
       "    <tr>\n",
       "      <th>91</th>\n",
       "      <td>92</td>\n",
       "      <td>2</td>\n",
       "    </tr>\n",
       "    <tr>\n",
       "      <th>251</th>\n",
       "      <td>252</td>\n",
       "      <td>2</td>\n",
       "    </tr>\n",
       "    <tr>\n",
       "      <th>205</th>\n",
       "      <td>206</td>\n",
       "      <td>2</td>\n",
       "    </tr>\n",
       "    <tr>\n",
       "      <th>10</th>\n",
       "      <td>11</td>\n",
       "      <td>2</td>\n",
       "    </tr>\n",
       "    <tr>\n",
       "      <th>...</th>\n",
       "      <td>...</td>\n",
       "      <td>...</td>\n",
       "    </tr>\n",
       "    <tr>\n",
       "      <th>42</th>\n",
       "      <td>43</td>\n",
       "      <td>3519</td>\n",
       "    </tr>\n",
       "    <tr>\n",
       "      <th>164</th>\n",
       "      <td>165</td>\n",
       "      <td>3602</td>\n",
       "    </tr>\n",
       "    <tr>\n",
       "      <th>92</th>\n",
       "      <td>93</td>\n",
       "      <td>3639</td>\n",
       "    </tr>\n",
       "    <tr>\n",
       "      <th>87</th>\n",
       "      <td>88</td>\n",
       "      <td>3718</td>\n",
       "    </tr>\n",
       "    <tr>\n",
       "      <th>225</th>\n",
       "      <td>226</td>\n",
       "      <td>4001</td>\n",
       "    </tr>\n",
       "  </tbody>\n",
       "</table>\n",
       "<p>272 rows × 2 columns</p>\n",
       "</div>"
      ],
      "text/plain": [
       "     STORE_NBR  PROD_QTY\n",
       "75          76         2\n",
       "91          92         2\n",
       "251        252         2\n",
       "205        206         2\n",
       "10          11         2\n",
       "..         ...       ...\n",
       "42          43      3519\n",
       "164        165      3602\n",
       "92          93      3639\n",
       "87          88      3718\n",
       "225        226      4001\n",
       "\n",
       "[272 rows x 2 columns]"
      ]
     },
     "execution_count": 218,
     "metadata": {},
     "output_type": "execute_result"
    }
   ],
   "source": [
    "store_totalsales = transaction.groupby('STORE_NBR')['PROD_QTY'].sum().reset_index()\n",
    "store_totalsales = store_totalsales.sort_values(by=\"PROD_QTY\")\n",
    "store_totalsales"
   ]
  },
  {
   "cell_type": "markdown",
   "id": "693954e1",
   "metadata": {},
   "source": [
    "Store 226 has the highest number of chips sold (4401 chips), following by store 87. This can be due to the store's location or marketing strategy or the skills of the employees (better training/ employees with many years of experience)."
   ]
  },
  {
   "cell_type": "code",
   "execution_count": 219,
   "id": "e1231ef5",
   "metadata": {},
   "outputs": [
    {
     "name": "stdout",
     "output_type": "stream",
     "text": [
      "114\n"
     ]
    },
    {
     "data": {
      "text/plain": [
       "PROD_NAME\n",
       "Kettle Mozzarella   Basil & Pesto 175g      3304\n",
       "Kettle Tortilla ChpsHny&Jlpno Chili 150g    3296\n",
       "Cobs Popd Swt/Chlli &Sr/Cream Chips 110g    3269\n",
       "Tyrrells Crisps     Ched & Chives 165g      3268\n",
       "Cobs Popd Sea Salt  Chips 110g              3265\n",
       "                                            ... \n",
       "RRD Pc Sea Salt     165g                    1431\n",
       "Woolworths Medium   Salsa 300g              1430\n",
       "NCC Sour Cream &    Garden Chives 175g      1419\n",
       "French Fries Potato Chips 175g              1418\n",
       "WW Crinkle Cut      Original 175g           1410\n",
       "Name: count, Length: 114, dtype: int64"
      ]
     },
     "execution_count": 219,
     "metadata": {},
     "output_type": "execute_result"
    }
   ],
   "source": [
    "print(transaction['PROD_NAME'].nunique())\n",
    "transaction['PROD_NAME'].value_counts()"
   ]
  },
  {
   "cell_type": "markdown",
   "id": "bfef6f9d",
   "metadata": {},
   "source": [
    "There are 114 products in total."
   ]
  },
  {
   "cell_type": "code",
   "execution_count": 220,
   "id": "3e374839",
   "metadata": {},
   "outputs": [
    {
     "data": {
      "text/html": [
       "<div>\n",
       "<style scoped>\n",
       "    .dataframe tbody tr th:only-of-type {\n",
       "        vertical-align: middle;\n",
       "    }\n",
       "\n",
       "    .dataframe tbody tr th {\n",
       "        vertical-align: top;\n",
       "    }\n",
       "\n",
       "    .dataframe thead th {\n",
       "        text-align: right;\n",
       "    }\n",
       "</style>\n",
       "<table border=\"1\" class=\"dataframe\">\n",
       "  <thead>\n",
       "    <tr style=\"text-align: right;\">\n",
       "      <th></th>\n",
       "      <th>DATE</th>\n",
       "      <th>STORE_NBR</th>\n",
       "      <th>LYLTY_CARD_NBR</th>\n",
       "      <th>TXN_ID</th>\n",
       "      <th>PROD_NBR</th>\n",
       "      <th>PROD_NAME</th>\n",
       "      <th>PROD_QTY</th>\n",
       "      <th>TOT_SALES</th>\n",
       "      <th>Weight</th>\n",
       "    </tr>\n",
       "  </thead>\n",
       "  <tbody>\n",
       "    <tr>\n",
       "      <th>0</th>\n",
       "      <td>2018-10-17</td>\n",
       "      <td>1</td>\n",
       "      <td>1000</td>\n",
       "      <td>1</td>\n",
       "      <td>5</td>\n",
       "      <td>Natural Chip        Compny SeaSalt175g</td>\n",
       "      <td>2</td>\n",
       "      <td>6.0</td>\n",
       "      <td>SeaSalt175g</td>\n",
       "    </tr>\n",
       "    <tr>\n",
       "      <th>1</th>\n",
       "      <td>2019-05-14</td>\n",
       "      <td>1</td>\n",
       "      <td>1307</td>\n",
       "      <td>348</td>\n",
       "      <td>66</td>\n",
       "      <td>CCs Nacho Cheese    175g</td>\n",
       "      <td>3</td>\n",
       "      <td>6.3</td>\n",
       "      <td>175g</td>\n",
       "    </tr>\n",
       "    <tr>\n",
       "      <th>2</th>\n",
       "      <td>2019-05-20</td>\n",
       "      <td>1</td>\n",
       "      <td>1343</td>\n",
       "      <td>383</td>\n",
       "      <td>61</td>\n",
       "      <td>Smiths Crinkle Cut  Chips Chicken 170g</td>\n",
       "      <td>2</td>\n",
       "      <td>2.9</td>\n",
       "      <td>170g</td>\n",
       "    </tr>\n",
       "    <tr>\n",
       "      <th>3</th>\n",
       "      <td>2018-08-17</td>\n",
       "      <td>2</td>\n",
       "      <td>2373</td>\n",
       "      <td>974</td>\n",
       "      <td>69</td>\n",
       "      <td>Smiths Chip Thinly  S/Cream&amp;Onion 175g</td>\n",
       "      <td>5</td>\n",
       "      <td>15.0</td>\n",
       "      <td>175g</td>\n",
       "    </tr>\n",
       "    <tr>\n",
       "      <th>4</th>\n",
       "      <td>2018-08-18</td>\n",
       "      <td>2</td>\n",
       "      <td>2426</td>\n",
       "      <td>1038</td>\n",
       "      <td>108</td>\n",
       "      <td>Kettle Tortilla ChpsHny&amp;Jlpno Chili 150g</td>\n",
       "      <td>3</td>\n",
       "      <td>13.8</td>\n",
       "      <td>150g</td>\n",
       "    </tr>\n",
       "    <tr>\n",
       "      <th>...</th>\n",
       "      <td>...</td>\n",
       "      <td>...</td>\n",
       "      <td>...</td>\n",
       "      <td>...</td>\n",
       "      <td>...</td>\n",
       "      <td>...</td>\n",
       "      <td>...</td>\n",
       "      <td>...</td>\n",
       "      <td>...</td>\n",
       "    </tr>\n",
       "    <tr>\n",
       "      <th>264831</th>\n",
       "      <td>2019-03-09</td>\n",
       "      <td>272</td>\n",
       "      <td>272319</td>\n",
       "      <td>270088</td>\n",
       "      <td>89</td>\n",
       "      <td>Kettle Sweet Chilli And Sour Cream 175g</td>\n",
       "      <td>2</td>\n",
       "      <td>10.8</td>\n",
       "      <td>175g</td>\n",
       "    </tr>\n",
       "    <tr>\n",
       "      <th>264832</th>\n",
       "      <td>2018-08-13</td>\n",
       "      <td>272</td>\n",
       "      <td>272358</td>\n",
       "      <td>270154</td>\n",
       "      <td>74</td>\n",
       "      <td>Tostitos Splash Of  Lime 175g</td>\n",
       "      <td>1</td>\n",
       "      <td>4.4</td>\n",
       "      <td>175g</td>\n",
       "    </tr>\n",
       "    <tr>\n",
       "      <th>264833</th>\n",
       "      <td>2018-11-06</td>\n",
       "      <td>272</td>\n",
       "      <td>272379</td>\n",
       "      <td>270187</td>\n",
       "      <td>51</td>\n",
       "      <td>Doritos Mexicana    170g</td>\n",
       "      <td>2</td>\n",
       "      <td>8.8</td>\n",
       "      <td>170g</td>\n",
       "    </tr>\n",
       "    <tr>\n",
       "      <th>264834</th>\n",
       "      <td>2018-12-27</td>\n",
       "      <td>272</td>\n",
       "      <td>272379</td>\n",
       "      <td>270188</td>\n",
       "      <td>42</td>\n",
       "      <td>Doritos Corn Chip Mexican Jalapeno 150g</td>\n",
       "      <td>2</td>\n",
       "      <td>7.8</td>\n",
       "      <td>150g</td>\n",
       "    </tr>\n",
       "    <tr>\n",
       "      <th>264835</th>\n",
       "      <td>2018-09-22</td>\n",
       "      <td>272</td>\n",
       "      <td>272380</td>\n",
       "      <td>270189</td>\n",
       "      <td>74</td>\n",
       "      <td>Tostitos Splash Of  Lime 175g</td>\n",
       "      <td>2</td>\n",
       "      <td>8.8</td>\n",
       "      <td>175g</td>\n",
       "    </tr>\n",
       "  </tbody>\n",
       "</table>\n",
       "<p>264834 rows × 9 columns</p>\n",
       "</div>"
      ],
      "text/plain": [
       "             DATE  STORE_NBR  LYLTY_CARD_NBR  TXN_ID  PROD_NBR  \\\n",
       "0      2018-10-17          1            1000       1         5   \n",
       "1      2019-05-14          1            1307     348        66   \n",
       "2      2019-05-20          1            1343     383        61   \n",
       "3      2018-08-17          2            2373     974        69   \n",
       "4      2018-08-18          2            2426    1038       108   \n",
       "...           ...        ...             ...     ...       ...   \n",
       "264831 2019-03-09        272          272319  270088        89   \n",
       "264832 2018-08-13        272          272358  270154        74   \n",
       "264833 2018-11-06        272          272379  270187        51   \n",
       "264834 2018-12-27        272          272379  270188        42   \n",
       "264835 2018-09-22        272          272380  270189        74   \n",
       "\n",
       "                                       PROD_NAME  PROD_QTY  TOT_SALES  \\\n",
       "0         Natural Chip        Compny SeaSalt175g         2        6.0   \n",
       "1                       CCs Nacho Cheese    175g         3        6.3   \n",
       "2         Smiths Crinkle Cut  Chips Chicken 170g         2        2.9   \n",
       "3         Smiths Chip Thinly  S/Cream&Onion 175g         5       15.0   \n",
       "4       Kettle Tortilla ChpsHny&Jlpno Chili 150g         3       13.8   \n",
       "...                                          ...       ...        ...   \n",
       "264831   Kettle Sweet Chilli And Sour Cream 175g         2       10.8   \n",
       "264832             Tostitos Splash Of  Lime 175g         1        4.4   \n",
       "264833                  Doritos Mexicana    170g         2        8.8   \n",
       "264834   Doritos Corn Chip Mexican Jalapeno 150g         2        7.8   \n",
       "264835             Tostitos Splash Of  Lime 175g         2        8.8   \n",
       "\n",
       "             Weight  \n",
       "0       SeaSalt175g  \n",
       "1              175g  \n",
       "2              170g  \n",
       "3              175g  \n",
       "4              150g  \n",
       "...             ...  \n",
       "264831         175g  \n",
       "264832         175g  \n",
       "264833         170g  \n",
       "264834         150g  \n",
       "264835         175g  \n",
       "\n",
       "[264834 rows x 9 columns]"
      ]
     },
     "execution_count": 220,
     "metadata": {},
     "output_type": "execute_result"
    }
   ],
   "source": [
    "transaction['Weight'] = transaction['PROD_NAME'].apply(lambda x: x.split()[-1])\n",
    "transaction"
   ]
  },
  {
   "cell_type": "markdown",
   "id": "e4b7344d",
   "metadata": {},
   "source": [
    "The product are not labelled in a uniform format. I will do some editing for easier interpretation and analysis."
   ]
  },
  {
   "cell_type": "code",
   "execution_count": 221,
   "id": "942756c2",
   "metadata": {},
   "outputs": [],
   "source": [
    "transaction['PROD_NAME'] = transaction['PROD_NAME'].replace(\n",
    "    'Twisties Chicken270g', \n",
    "    'Twisties Chicken 270g')\n",
    "transaction['PROD_NAME'] = transaction['PROD_NAME'].replace(\n",
    "    'Natural Chip        Compny SeaSalt175g', \n",
    "    'Natural Chip        Compny SeaSalt 175g')\n",
    "transaction['PROD_NAME'] = transaction['PROD_NAME'].replace(\n",
    "    'Natural ChipCo      Hony Soy Chckn175g', \n",
    "    'Natural ChipCo      Hony Soy Chckn 175g')\n",
    "transaction['PROD_NAME'] = transaction['PROD_NAME'].replace(\n",
    "    'Old El Paso Salsa   Dip Chnky Tom Ht300g', \n",
    "    'Old El Paso Salsa   Dip Chnky Tom Ht 300g')\n",
    "transaction['PROD_NAME'] = transaction['PROD_NAME'].replace(\n",
    "    'Smiths Crinkle Cut  Chips Chs&Onion170g', \n",
    "    'Smiths Crinkle Cut  Chips Chs&Onion 170g')\n",
    "transaction['PROD_NAME'] = transaction['PROD_NAME'].replace(\n",
    "    'Smiths Thinly       Swt Chli&S/Cream175G', \n",
    "    'Smiths Thinly       Swt Chli&S/Cream 175g')\n",
    "transaction['PROD_NAME'] = transaction['PROD_NAME'].replace(\n",
    "    'Smiths Chip Thinly  CutSalt/Vinegr175g', \n",
    "    'Smiths Chip Thinly  CutSalt/Vinegr 175g')\n",
    "transaction['PROD_NAME'] = transaction['PROD_NAME'].replace(\n",
    "    'Kettle 135g Swt Pot Sea Salt', \n",
    "    'Kettle Swt Pot Sea Salt 135g')\n",
    "transaction['Weight'] = transaction['PROD_NAME'].apply(lambda x: x.split()[-1])\n",
    "transaction['Brand'] = transaction['PROD_NAME'].apply(lambda x: x.split()[0])"
   ]
  },
  {
   "cell_type": "code",
   "execution_count": 222,
   "id": "30aa369e",
   "metadata": {
    "scrolled": false
   },
   "outputs": [
    {
     "name": "stdout",
     "output_type": "stream",
     "text": [
      "   Weight  PROD_QTY\n",
      "9    175g    126467\n",
      "5    150g     79330\n",
      "2    134g     48019\n",
      "0    110g     42835\n",
      "8    170g     38088\n",
      "7    165g     29051\n",
      "18   300g     28813\n",
      "19   330g     23999\n",
      "20   380g     12273\n",
      "17   270g     12049\n",
      "12   200g      8425\n",
      "3    135g      6212\n",
      "16   250g      6069\n",
      "14   210g      6031\n",
      "13   210G      5931\n",
      "22    90g      5692\n",
      "11   190g      5673\n",
      "6    160g      5604\n",
      "15   220g      2970\n",
      "21    70g      2855\n",
      "4    150G      2844\n",
      "10   180g      2764\n",
      "1    125g      2730\n"
     ]
    },
    {
     "data": {
      "text/plain": [
       "array(['175g', '150g', '134g', '110g', '170g', '165g', '300g', '330g',\n",
       "       '380g', '270g', '200g', '135g', '250g', '210g', '210G', '90g',\n",
       "       '190g', '160g', '220g', '70g', '150G', '180g', '125g'],\n",
       "      dtype=object)"
      ]
     },
     "execution_count": 222,
     "metadata": {},
     "output_type": "execute_result"
    }
   ],
   "source": [
    "weight_totalsales = transaction.groupby('Weight')['PROD_QTY'].sum().reset_index()\n",
    "weight = weight_totalsales.sort_values(by = 'PROD_QTY', ascending=False)\n",
    "print(weight)\n",
    "weight['Weight'].unique()"
   ]
  },
  {
   "cell_type": "markdown",
   "id": "0c457383",
   "metadata": {},
   "source": [
    "Some of the weight are labeled incorrectly (G instead of g)"
   ]
  },
  {
   "cell_type": "code",
   "execution_count": 223,
   "id": "9ef2b889",
   "metadata": {},
   "outputs": [
    {
     "name": "stdout",
     "output_type": "stream",
     "text": [
      "   Weight  PROD_QTY\n",
      "8    175g    126467\n",
      "4    150g     82174\n",
      "2    134g     48019\n",
      "0    110g     42835\n",
      "7    170g     38088\n",
      "6    165g     29051\n",
      "16   300g     28813\n",
      "17   330g     23999\n",
      "18   380g     12273\n",
      "15   270g     12049\n",
      "12   210g     11962\n",
      "11   200g      8425\n",
      "3    135g      6212\n",
      "14   250g      6069\n",
      "20    90g      5692\n",
      "10   190g      5673\n",
      "5    160g      5604\n",
      "13   220g      2970\n",
      "19    70g      2855\n",
      "9    180g      2764\n",
      "1    125g      2730\n"
     ]
    },
    {
     "data": {
      "text/plain": [
       "array(['175g', '150g', '134g', '110g', '170g', '165g', '300g', '330g',\n",
       "       '380g', '270g', '210g', '200g', '135g', '250g', '90g', '190g',\n",
       "       '160g', '220g', '70g', '180g', '125g'], dtype=object)"
      ]
     },
     "execution_count": 223,
     "metadata": {},
     "output_type": "execute_result"
    }
   ],
   "source": [
    "transaction['Weight'] = transaction['Weight'].replace(\n",
    "    '210G', \n",
    "    '210g')\n",
    "transaction['Weight'] = transaction['Weight'].replace(\n",
    "    '150G', \n",
    "    '150g')\n",
    "weight_totalsales1 = transaction.groupby('Weight')['PROD_QTY'].sum().reset_index()\n",
    "weight1 = weight_totalsales1.sort_values(by = 'PROD_QTY', ascending=False)\n",
    "print(weight1)\n",
    "weight1['Weight'].unique()"
   ]
  },
  {
   "cell_type": "code",
   "execution_count": 224,
   "id": "eb63694a",
   "metadata": {},
   "outputs": [
    {
     "data": {
      "text/plain": [
       "([<matplotlib.patches.Wedge at 0x28879d650>,\n",
       "  <matplotlib.patches.Wedge at 0x28874e8d0>,\n",
       "  <matplotlib.patches.Wedge at 0x2886f5250>,\n",
       "  <matplotlib.patches.Wedge at 0x28869c710>,\n",
       "  <matplotlib.patches.Wedge at 0x288642350>,\n",
       "  <matplotlib.patches.Wedge at 0x2885e6fd0>,\n",
       "  <matplotlib.patches.Wedge at 0x288586710>,\n",
       "  <matplotlib.patches.Wedge at 0x288519110>,\n",
       "  <matplotlib.patches.Wedge at 0x288643e90>,\n",
       "  <matplotlib.patches.Wedge at 0x28847b9d0>,\n",
       "  <matplotlib.patches.Wedge at 0x28841fd90>,\n",
       "  <matplotlib.patches.Wedge at 0x2883d2d50>,\n",
       "  <matplotlib.patches.Wedge at 0x28838b690>,\n",
       "  <matplotlib.patches.Wedge at 0x288335f50>,\n",
       "  <matplotlib.patches.Wedge at 0x2882e8e90>,\n",
       "  <matplotlib.patches.Wedge at 0x288298190>,\n",
       "  <matplotlib.patches.Wedge at 0x2882440d0>,\n",
       "  <matplotlib.patches.Wedge at 0x2881ea210>,\n",
       "  <matplotlib.patches.Wedge at 0x28819a950>,\n",
       "  <matplotlib.patches.Wedge at 0x288147090>,\n",
       "  <matplotlib.patches.Wedge at 0x2880ff3d0>],\n",
       " [Text(0.7764316149258481, 0.7792008389007545, '175g'),\n",
       "  Text(-0.541828772531255, 0.9572991075193132, '150g'),\n",
       "  Text(-1.0670485971139485, 0.2672214276534621, '134g'),\n",
       "  Text(-1.044115406055749, -0.3461546169517871, '110g'),\n",
       "  Text(-0.7473646706346042, -0.8071220781810083, '170g'),\n",
       "  Text(-0.3554863670196776, -1.040975236431276, '165g'),\n",
       "  Text(0.034194217214751174, -1.0994683967759467, '300g'),\n",
       "  Text(0.387308604928744, -1.029559150582496, '330g'),\n",
       "  Text(0.6079539723954345, -0.916728949825744, '380g'),\n",
       "  Text(0.7392539532556445, -0.8145572985345485, '270g'),\n",
       "  Text(0.8522989561853166, -0.6954038318023708, '210g'),\n",
       "  Text(0.9334535981494952, -0.5819487779021112, '200g'),\n",
       "  Text(0.9825281188166614, -0.494609437571295, '135g'),\n",
       "  Text(1.0174308208696832, -0.41813218573131017, '250g'),\n",
       "  Text(1.0452878472417757, -0.34259789317602973, '90g'),\n",
       "  Text(1.0668887301920598, -0.2678589878820093, '190g'),\n",
       "  Text(1.0830477545827277, -0.1923734942587249, '160g'),\n",
       "  Text(1.0917674737473435, -0.13432715014971436, '220g'),\n",
       "  Text(1.0959191822738215, -0.09466332935344454, '70g'),\n",
       "  Text(1.0985591210321397, -0.05628372408692349, '180g'),\n",
       "  Text(1.0998411913044932, -0.01869101147379579, '125g')],\n",
       " [Text(0.4235081535959171, 0.42501863940041157, '25.06%'),\n",
       "  Text(-0.29554296683523, 0.522163149555989, '16.28%'),\n",
       "  Text(-0.5820265075166992, 0.14575714235643383, '9.51%'),\n",
       "  Text(-0.5695174942122266, -0.18881160924642934, '8.49%'),\n",
       "  Text(-0.4076534567097841, -0.44024840628055, '7.55%'),\n",
       "  Text(-0.19390165473800594, -0.5678046744170596, '5.76%'),\n",
       "  Text(0.01865139120804609, -0.5997100346050618, '5.71%'),\n",
       "  Text(0.21125923905204216, -0.5615777184995431, '4.75%'),\n",
       "  Text(0.3316112576702369, -0.5000339726322239, '2.43%'),\n",
       "  Text(0.4032294290485333, -0.4443039810188446, '2.39%'),\n",
       "  Text(0.46489033973744537, -0.3793111809831113, '2.37%'),\n",
       "  Text(0.5091565080815428, -0.3174266061284242, '1.67%'),\n",
       "  Text(0.5359244284454516, -0.2697869659479791, '1.23%'),\n",
       "  Text(0.5549622659289181, -0.22807210130798733, '1.20%'),\n",
       "  Text(0.5701570075864231, -0.1868715780960162, '1.13%'),\n",
       "  Text(0.5819393073774871, -0.14610490248109598, '1.12%'),\n",
       "  Text(0.5907533206814878, -0.1049309968683954, '1.11%'),\n",
       "  Text(0.5955095311349146, -0.07326935462711691, '0.59%'),\n",
       "  Text(0.5977740994220844, -0.051634543283697015, '0.57%'),\n",
       "  Text(0.5992140660175307, -0.0307002131383219, '0.55%'),\n",
       "  Text(0.599913377075178, -0.010195097167524975, '0.54%')])"
      ]
     },
     "execution_count": 224,
     "metadata": {},
     "output_type": "execute_result"
    },
    {
     "data": {
      "image/png": "[encoded data removed]",
      "text/plain": [
       "<Figure size 2000x800 with 1 Axes>"
      ]
     },
     "metadata": {},
     "output_type": "display_data"
    }
   ],
   "source": [
    "label4 = ['175g', '150g', '134g', '110g', '170g', '165g', '300g', '330g',\n",
    "       '380g', '270g', '210g', '200g', '135g', '250g', '90g', '190g',\n",
    "       '160g', '220g', '70g', '180g', '125g']\n",
    "plt.pie(weight1['PROD_QTY'],labels = label4,autopct='%.2f%%')"
   ]
  },
  {
   "cell_type": "markdown",
   "id": "8e3003be",
   "metadata": {},
   "source": [
    "25.06% of sales are chips that weigh 175g, following by 150g and 134g. 125g and 180g chips have the lowest sales over the period."
   ]
  },
  {
   "cell_type": "code",
   "execution_count": 225,
   "id": "a07eca8d",
   "metadata": {},
   "outputs": [
    {
     "data": {
      "text/html": [
       "<div>\n",
       "<style scoped>\n",
       "    .dataframe tbody tr th:only-of-type {\n",
       "        vertical-align: middle;\n",
       "    }\n",
       "\n",
       "    .dataframe tbody tr th {\n",
       "        vertical-align: top;\n",
       "    }\n",
       "\n",
       "    .dataframe thead th {\n",
       "        text-align: right;\n",
       "    }\n",
       "</style>\n",
       "<table border=\"1\" class=\"dataframe\">\n",
       "  <thead>\n",
       "    <tr style=\"text-align: right;\">\n",
       "      <th></th>\n",
       "      <th>PROD_NAME</th>\n",
       "      <th>PROD_QTY</th>\n",
       "    </tr>\n",
       "  </thead>\n",
       "  <tbody>\n",
       "    <tr>\n",
       "      <th>0</th>\n",
       "      <td>Burger Rings 220g</td>\n",
       "      <td>2970</td>\n",
       "    </tr>\n",
       "    <tr>\n",
       "      <th>1</th>\n",
       "      <td>CCs Nacho Cheese    175g</td>\n",
       "      <td>2839</td>\n",
       "    </tr>\n",
       "    <tr>\n",
       "      <th>2</th>\n",
       "      <td>CCs Original 175g</td>\n",
       "      <td>2880</td>\n",
       "    </tr>\n",
       "    <tr>\n",
       "      <th>3</th>\n",
       "      <td>CCs Tasty Cheese    175g</td>\n",
       "      <td>2890</td>\n",
       "    </tr>\n",
       "    <tr>\n",
       "      <th>4</th>\n",
       "      <td>Cheetos Chs &amp; Bacon Balls 190g</td>\n",
       "      <td>2801</td>\n",
       "    </tr>\n",
       "    <tr>\n",
       "      <th>...</th>\n",
       "      <td>...</td>\n",
       "      <td>...</td>\n",
       "    </tr>\n",
       "    <tr>\n",
       "      <th>109</th>\n",
       "      <td>WW Sour Cream &amp;OnionStacked Chips 160g</td>\n",
       "      <td>2802</td>\n",
       "    </tr>\n",
       "    <tr>\n",
       "      <th>110</th>\n",
       "      <td>WW Supreme Cheese   Corn Chips 200g</td>\n",
       "      <td>2837</td>\n",
       "    </tr>\n",
       "    <tr>\n",
       "      <th>111</th>\n",
       "      <td>Woolworths Cheese   Rings 190g</td>\n",
       "      <td>2872</td>\n",
       "    </tr>\n",
       "    <tr>\n",
       "      <th>112</th>\n",
       "      <td>Woolworths Medium   Salsa 300g</td>\n",
       "      <td>2700</td>\n",
       "    </tr>\n",
       "    <tr>\n",
       "      <th>113</th>\n",
       "      <td>Woolworths Mild     Salsa 300g</td>\n",
       "      <td>2823</td>\n",
       "    </tr>\n",
       "  </tbody>\n",
       "</table>\n",
       "<p>114 rows × 2 columns</p>\n",
       "</div>"
      ],
      "text/plain": [
       "                                  PROD_NAME  PROD_QTY\n",
       "0                         Burger Rings 220g      2970\n",
       "1                  CCs Nacho Cheese    175g      2839\n",
       "2                         CCs Original 175g      2880\n",
       "3                  CCs Tasty Cheese    175g      2890\n",
       "4            Cheetos Chs & Bacon Balls 190g      2801\n",
       "..                                      ...       ...\n",
       "109  WW Sour Cream &OnionStacked Chips 160g      2802\n",
       "110     WW Supreme Cheese   Corn Chips 200g      2837\n",
       "111          Woolworths Cheese   Rings 190g      2872\n",
       "112          Woolworths Medium   Salsa 300g      2700\n",
       "113          Woolworths Mild     Salsa 300g      2823\n",
       "\n",
       "[114 rows x 2 columns]"
      ]
     },
     "execution_count": 225,
     "metadata": {},
     "output_type": "execute_result"
    }
   ],
   "source": [
    "product_totalsales = transaction.groupby('PROD_NAME')['PROD_QTY'].sum().reset_index()\n",
    "product_totalsales"
   ]
  },
  {
   "cell_type": "code",
   "execution_count": 226,
   "id": "dbee7aa9",
   "metadata": {},
   "outputs": [
    {
     "data": {
      "text/html": [
       "<div>\n",
       "<style scoped>\n",
       "    .dataframe tbody tr th:only-of-type {\n",
       "        vertical-align: middle;\n",
       "    }\n",
       "\n",
       "    .dataframe tbody tr th {\n",
       "        vertical-align: top;\n",
       "    }\n",
       "\n",
       "    .dataframe thead th {\n",
       "        text-align: right;\n",
       "    }\n",
       "</style>\n",
       "<table border=\"1\" class=\"dataframe\">\n",
       "  <thead>\n",
       "    <tr style=\"text-align: right;\">\n",
       "      <th></th>\n",
       "      <th>PROD_NAME</th>\n",
       "      <th>PROD_QTY</th>\n",
       "    </tr>\n",
       "  </thead>\n",
       "  <tbody>\n",
       "    <tr>\n",
       "      <th>21</th>\n",
       "      <td>French Fries Potato Chips 175g</td>\n",
       "      <td>2643</td>\n",
       "    </tr>\n",
       "    <tr>\n",
       "      <th>105</th>\n",
       "      <td>WW Crinkle Cut      Original 175g</td>\n",
       "      <td>2666</td>\n",
       "    </tr>\n",
       "    <tr>\n",
       "      <th>43</th>\n",
       "      <td>NCC Sour Cream &amp;    Garden Chives 175g</td>\n",
       "      <td>2682</td>\n",
       "    </tr>\n",
       "    <tr>\n",
       "      <th>112</th>\n",
       "      <td>Woolworths Medium   Salsa 300g</td>\n",
       "      <td>2700</td>\n",
       "    </tr>\n",
       "    <tr>\n",
       "      <th>62</th>\n",
       "      <td>RRD Pc Sea Salt     165g</td>\n",
       "      <td>2702</td>\n",
       "    </tr>\n",
       "    <tr>\n",
       "      <th>...</th>\n",
       "      <td>...</td>\n",
       "      <td>...</td>\n",
       "    </tr>\n",
       "    <tr>\n",
       "      <th>98</th>\n",
       "      <td>Tostitos Splash Of  Lime 175g</td>\n",
       "      <td>6234</td>\n",
       "    </tr>\n",
       "    <tr>\n",
       "      <th>10</th>\n",
       "      <td>Cobs Popd Swt/Chlli &amp;Sr/Cream Chips 110g</td>\n",
       "      <td>6256</td>\n",
       "    </tr>\n",
       "    <tr>\n",
       "      <th>8</th>\n",
       "      <td>Cobs Popd Sea Salt  Chips 110g</td>\n",
       "      <td>6277</td>\n",
       "    </tr>\n",
       "    <tr>\n",
       "      <th>42</th>\n",
       "      <td>Kettle Tortilla ChpsHny&amp;Jlpno Chili 150g</td>\n",
       "      <td>6309</td>\n",
       "    </tr>\n",
       "    <tr>\n",
       "      <th>32</th>\n",
       "      <td>Kettle Mozzarella   Basil &amp; Pesto 175g</td>\n",
       "      <td>6381</td>\n",
       "    </tr>\n",
       "  </tbody>\n",
       "</table>\n",
       "<p>114 rows × 2 columns</p>\n",
       "</div>"
      ],
      "text/plain": [
       "                                    PROD_NAME  PROD_QTY\n",
       "21             French Fries Potato Chips 175g      2643\n",
       "105         WW Crinkle Cut      Original 175g      2666\n",
       "43     NCC Sour Cream &    Garden Chives 175g      2682\n",
       "112            Woolworths Medium   Salsa 300g      2700\n",
       "62                   RRD Pc Sea Salt     165g      2702\n",
       "..                                        ...       ...\n",
       "98              Tostitos Splash Of  Lime 175g      6234\n",
       "10   Cobs Popd Swt/Chlli &Sr/Cream Chips 110g      6256\n",
       "8              Cobs Popd Sea Salt  Chips 110g      6277\n",
       "42   Kettle Tortilla ChpsHny&Jlpno Chili 150g      6309\n",
       "32     Kettle Mozzarella   Basil & Pesto 175g      6381\n",
       "\n",
       "[114 rows x 2 columns]"
      ]
     },
     "execution_count": 226,
     "metadata": {},
     "output_type": "execute_result"
    }
   ],
   "source": [
    "product_totalsales = product_totalsales.sort_values(by='PROD_QTY')\n",
    "product_totalsales"
   ]
  },
  {
   "cell_type": "code",
   "execution_count": 227,
   "id": "90ca55aa",
   "metadata": {
    "scrolled": false
   },
   "outputs": [
    {
     "data": {
      "text/plain": [
       "<Axes: xlabel='PROD_NAME', ylabel='PROD_QTY'>"
      ]
     },
     "execution_count": 227,
     "metadata": {},
     "output_type": "execute_result"
    },
    {
     "data": {
      "image/png": "[encoded data removed]",
      "text/plain": [
       "<Figure size 2000x800 with 1 Axes>"
      ]
     },
     "metadata": {},
     "output_type": "display_data"
    }
   ],
   "source": [
    "sns.set_theme(rc={'figure.figsize':(20,8)})\n",
    "sns.barplot(x = product_totalsales['PROD_NAME'], y = product_totalsales['PROD_QTY'],palette ='dark:salmon_r')"
   ]
  },
  {
   "cell_type": "code",
   "execution_count": 228,
   "id": "6ee8d935",
   "metadata": {},
   "outputs": [
    {
     "data": {
      "text/plain": [
       "PROD_NAME    37\n",
       "PROD_QTY     37\n",
       "dtype: int64"
      ]
     },
     "execution_count": 228,
     "metadata": {},
     "output_type": "execute_result"
    }
   ],
   "source": [
    "count1 = product_totalsales[product_totalsales['PROD_QTY']>6000]\n",
    "count1.count()"
   ]
  },
  {
   "cell_type": "code",
   "execution_count": 229,
   "id": "e49cb239",
   "metadata": {},
   "outputs": [
    {
     "data": {
      "text/plain": [
       "32.45614035087719"
      ]
     },
     "execution_count": 229,
     "metadata": {},
     "output_type": "execute_result"
    }
   ],
   "source": [
    "37/114*100"
   ]
  },
  {
   "cell_type": "code",
   "execution_count": 230,
   "id": "1a79cda6",
   "metadata": {},
   "outputs": [
    {
     "data": {
      "text/plain": [
       "PROD_NAME    56\n",
       "PROD_QTY     56\n",
       "dtype: int64"
      ]
     },
     "execution_count": 230,
     "metadata": {},
     "output_type": "execute_result"
    }
   ],
   "source": [
    "count2 = product_totalsales[product_totalsales['PROD_QTY']<3000]\n",
    "count2.count()"
   ]
  },
  {
   "cell_type": "code",
   "execution_count": 231,
   "id": "4c9b4675",
   "metadata": {},
   "outputs": [
    {
     "data": {
      "text/plain": [
       "49.122807017543856"
      ]
     },
     "execution_count": 231,
     "metadata": {},
     "output_type": "execute_result"
    }
   ],
   "source": [
    "56/114*100"
   ]
  },
  {
   "cell_type": "markdown",
   "id": "b564388a",
   "metadata": {},
   "source": [
    "Kettle Mozzarella Basil & Pesto 175g has the highest sales over the period, following by Kettle Mozzarella Basil & Pesto 175g, whereas French Fries Potato Chips 175g 300g has the lowest sales.\n",
    "\n",
    "32.46% (37 products) of the products have sales higher than 6000 units. 49.12% (56 products) have sales lower than 3000 units. From the bar plot, it's clear that the sales of these chips are split into two groups: sales around 3000 units and sales around 6000 units. Further analysis can be done to identify whether there's a specific brand that has higher sales than others. "
   ]
  },
  {
   "cell_type": "code",
   "execution_count": 232,
   "id": "822eae41",
   "metadata": {},
   "outputs": [],
   "source": [
    "transaction['Brand'] = transaction['PROD_NAME'].apply(lambda x: x.split()[0])"
   ]
  },
  {
   "cell_type": "code",
   "execution_count": 233,
   "id": "0cc28d3d",
   "metadata": {},
   "outputs": [
    {
     "data": {
      "text/html": [
       "<div>\n",
       "<style scoped>\n",
       "    .dataframe tbody tr th:only-of-type {\n",
       "        vertical-align: middle;\n",
       "    }\n",
       "\n",
       "    .dataframe tbody tr th {\n",
       "        vertical-align: top;\n",
       "    }\n",
       "\n",
       "    .dataframe thead th {\n",
       "        text-align: right;\n",
       "    }\n",
       "</style>\n",
       "<table border=\"1\" class=\"dataframe\">\n",
       "  <thead>\n",
       "    <tr style=\"text-align: right;\">\n",
       "      <th></th>\n",
       "      <th>Brand</th>\n",
       "      <th>PROD_QTY</th>\n",
       "    </tr>\n",
       "  </thead>\n",
       "  <tbody>\n",
       "    <tr>\n",
       "      <th>7</th>\n",
       "      <td>French</td>\n",
       "      <td>2643</td>\n",
       "    </tr>\n",
       "    <tr>\n",
       "      <th>13</th>\n",
       "      <td>NCC</td>\n",
       "      <td>2682</td>\n",
       "    </tr>\n",
       "    <tr>\n",
       "      <th>22</th>\n",
       "      <td>Sunbites</td>\n",
       "      <td>2706</td>\n",
       "    </tr>\n",
       "    <tr>\n",
       "      <th>9</th>\n",
       "      <td>GrnWves</td>\n",
       "      <td>2764</td>\n",
       "    </tr>\n",
       "    <tr>\n",
       "      <th>0</th>\n",
       "      <td>Burger</td>\n",
       "      <td>2970</td>\n",
       "    </tr>\n",
       "    <tr>\n",
       "      <th>21</th>\n",
       "      <td>Snbts</td>\n",
       "      <td>2986</td>\n",
       "    </tr>\n",
       "    <tr>\n",
       "      <th>2</th>\n",
       "      <td>Cheetos</td>\n",
       "      <td>5530</td>\n",
       "    </tr>\n",
       "    <tr>\n",
       "      <th>19</th>\n",
       "      <td>Smith</td>\n",
       "      <td>5609</td>\n",
       "    </tr>\n",
       "    <tr>\n",
       "      <th>11</th>\n",
       "      <td>Infzns</td>\n",
       "      <td>6000</td>\n",
       "    </tr>\n",
       "    <tr>\n",
       "      <th>5</th>\n",
       "      <td>Dorito</td>\n",
       "      <td>6109</td>\n",
       "    </tr>\n",
       "    <tr>\n",
       "      <th>28</th>\n",
       "      <td>Woolworths</td>\n",
       "      <td>8395</td>\n",
       "    </tr>\n",
       "    <tr>\n",
       "      <th>1</th>\n",
       "      <td>CCs</td>\n",
       "      <td>8609</td>\n",
       "    </tr>\n",
       "    <tr>\n",
       "      <th>3</th>\n",
       "      <td>Cheezels</td>\n",
       "      <td>8747</td>\n",
       "    </tr>\n",
       "    <tr>\n",
       "      <th>18</th>\n",
       "      <td>Red</td>\n",
       "      <td>11146</td>\n",
       "    </tr>\n",
       "    <tr>\n",
       "      <th>14</th>\n",
       "      <td>Natural</td>\n",
       "      <td>11424</td>\n",
       "    </tr>\n",
       "    <tr>\n",
       "      <th>8</th>\n",
       "      <td>Grain</td>\n",
       "      <td>11962</td>\n",
       "    </tr>\n",
       "    <tr>\n",
       "      <th>26</th>\n",
       "      <td>Tyrrells</td>\n",
       "      <td>12298</td>\n",
       "    </tr>\n",
       "    <tr>\n",
       "      <th>15</th>\n",
       "      <td>Old</td>\n",
       "      <td>17805</td>\n",
       "    </tr>\n",
       "    <tr>\n",
       "      <th>25</th>\n",
       "      <td>Twisties</td>\n",
       "      <td>18118</td>\n",
       "    </tr>\n",
       "    <tr>\n",
       "      <th>24</th>\n",
       "      <td>Tostitos</td>\n",
       "      <td>18134</td>\n",
       "    </tr>\n",
       "    <tr>\n",
       "      <th>4</th>\n",
       "      <td>Cobs</td>\n",
       "      <td>18571</td>\n",
       "    </tr>\n",
       "    <tr>\n",
       "      <th>27</th>\n",
       "      <td>WW</td>\n",
       "      <td>19461</td>\n",
       "    </tr>\n",
       "    <tr>\n",
       "      <th>10</th>\n",
       "      <td>Infuzions</td>\n",
       "      <td>21119</td>\n",
       "    </tr>\n",
       "    <tr>\n",
       "      <th>17</th>\n",
       "      <td>RRD</td>\n",
       "      <td>22500</td>\n",
       "    </tr>\n",
       "    <tr>\n",
       "      <th>23</th>\n",
       "      <td>Thins</td>\n",
       "      <td>26929</td>\n",
       "    </tr>\n",
       "    <tr>\n",
       "      <th>6</th>\n",
       "      <td>Doritos</td>\n",
       "      <td>47707</td>\n",
       "    </tr>\n",
       "    <tr>\n",
       "      <th>16</th>\n",
       "      <td>Pringles</td>\n",
       "      <td>48019</td>\n",
       "    </tr>\n",
       "    <tr>\n",
       "      <th>20</th>\n",
       "      <td>Smiths</td>\n",
       "      <td>54730</td>\n",
       "    </tr>\n",
       "    <tr>\n",
       "      <th>12</th>\n",
       "      <td>Kettle</td>\n",
       "      <td>79051</td>\n",
       "    </tr>\n",
       "  </tbody>\n",
       "</table>\n",
       "</div>"
      ],
      "text/plain": [
       "         Brand  PROD_QTY\n",
       "7       French      2643\n",
       "13         NCC      2682\n",
       "22    Sunbites      2706\n",
       "9      GrnWves      2764\n",
       "0       Burger      2970\n",
       "21       Snbts      2986\n",
       "2      Cheetos      5530\n",
       "19       Smith      5609\n",
       "11      Infzns      6000\n",
       "5       Dorito      6109\n",
       "28  Woolworths      8395\n",
       "1          CCs      8609\n",
       "3     Cheezels      8747\n",
       "18         Red     11146\n",
       "14     Natural     11424\n",
       "8        Grain     11962\n",
       "26    Tyrrells     12298\n",
       "15         Old     17805\n",
       "25    Twisties     18118\n",
       "24    Tostitos     18134\n",
       "4         Cobs     18571\n",
       "27          WW     19461\n",
       "10   Infuzions     21119\n",
       "17         RRD     22500\n",
       "23       Thins     26929\n",
       "6      Doritos     47707\n",
       "16    Pringles     48019\n",
       "20      Smiths     54730\n",
       "12      Kettle     79051"
      ]
     },
     "execution_count": 233,
     "metadata": {},
     "output_type": "execute_result"
    }
   ],
   "source": [
    "brand_totalsales = transaction.groupby('Brand')['PROD_QTY'].sum().reset_index()\n",
    "brand_totalsales = brand_totalsales.sort_values(by = 'PROD_QTY')\n",
    "brand_totalsales"
   ]
  },
  {
   "cell_type": "markdown",
   "id": "47af5066",
   "metadata": {},
   "source": [
    "Some brands are written in multiple ways. I will change them to the same format.\n",
    "\n",
    "NCC = Natural (Natural Chip Co) \n",
    "\n",
    "RRD = Red (Red Rock Deli)\n",
    "\n",
    "Snbts = Sunbites\n",
    "\n",
    "Infzns = Infuzions\n",
    "\n",
    "Grain = GrnWves \n",
    "\n",
    "WW = Woolworths\n",
    "\n",
    "Dorito = Doritos"
   ]
  },
  {
   "cell_type": "code",
   "execution_count": 234,
   "id": "0664e514",
   "metadata": {},
   "outputs": [],
   "source": [
    "transaction['Brand'] = transaction['Brand'].replace(\n",
    "    'NCC', \n",
    "    'Natural')\n",
    "transaction['Brand'] = transaction['Brand'].replace(\n",
    "    'RRD', \n",
    "    'Red')\n",
    "transaction['Brand'] = transaction['Brand'].replace(\n",
    "    'Snbts', \n",
    "    'Sunbites')\n",
    "transaction['Brand'] = transaction['Brand'].replace(\n",
    "    'Infzns', \n",
    "    'Infuzions')\n",
    "transaction['Brand'] = transaction['Brand'].replace(\n",
    "    'Grain', \n",
    "    'GrnWves')\n",
    "transaction['Brand'] = transaction['Brand'].replace(\n",
    "    'WW', \n",
    "    'Woolworths')\n",
    "transaction['Brand'] = transaction['Brand'].replace(\n",
    "    'Dorito', \n",
    "    'Doritos')"
   ]
  },
  {
   "cell_type": "code",
   "execution_count": 235,
   "id": "79fdeb9a",
   "metadata": {},
   "outputs": [
    {
     "data": {
      "text/html": [
       "<div>\n",
       "<style scoped>\n",
       "    .dataframe tbody tr th:only-of-type {\n",
       "        vertical-align: middle;\n",
       "    }\n",
       "\n",
       "    .dataframe tbody tr th {\n",
       "        vertical-align: top;\n",
       "    }\n",
       "\n",
       "    .dataframe thead th {\n",
       "        text-align: right;\n",
       "    }\n",
       "</style>\n",
       "<table border=\"1\" class=\"dataframe\">\n",
       "  <thead>\n",
       "    <tr style=\"text-align: right;\">\n",
       "      <th></th>\n",
       "      <th>Brand</th>\n",
       "      <th>PROD_QTY</th>\n",
       "    </tr>\n",
       "  </thead>\n",
       "  <tbody>\n",
       "    <tr>\n",
       "      <th>6</th>\n",
       "      <td>French</td>\n",
       "      <td>2643</td>\n",
       "    </tr>\n",
       "    <tr>\n",
       "      <th>0</th>\n",
       "      <td>Burger</td>\n",
       "      <td>2970</td>\n",
       "    </tr>\n",
       "    <tr>\n",
       "      <th>2</th>\n",
       "      <td>Cheetos</td>\n",
       "      <td>5530</td>\n",
       "    </tr>\n",
       "    <tr>\n",
       "      <th>14</th>\n",
       "      <td>Smith</td>\n",
       "      <td>5609</td>\n",
       "    </tr>\n",
       "    <tr>\n",
       "      <th>16</th>\n",
       "      <td>Sunbites</td>\n",
       "      <td>5692</td>\n",
       "    </tr>\n",
       "    <tr>\n",
       "      <th>1</th>\n",
       "      <td>CCs</td>\n",
       "      <td>8609</td>\n",
       "    </tr>\n",
       "    <tr>\n",
       "      <th>3</th>\n",
       "      <td>Cheezels</td>\n",
       "      <td>8747</td>\n",
       "    </tr>\n",
       "    <tr>\n",
       "      <th>20</th>\n",
       "      <td>Tyrrells</td>\n",
       "      <td>12298</td>\n",
       "    </tr>\n",
       "    <tr>\n",
       "      <th>10</th>\n",
       "      <td>Natural</td>\n",
       "      <td>14106</td>\n",
       "    </tr>\n",
       "    <tr>\n",
       "      <th>7</th>\n",
       "      <td>GrnWves</td>\n",
       "      <td>14726</td>\n",
       "    </tr>\n",
       "    <tr>\n",
       "      <th>11</th>\n",
       "      <td>Old</td>\n",
       "      <td>17805</td>\n",
       "    </tr>\n",
       "    <tr>\n",
       "      <th>19</th>\n",
       "      <td>Twisties</td>\n",
       "      <td>18118</td>\n",
       "    </tr>\n",
       "    <tr>\n",
       "      <th>18</th>\n",
       "      <td>Tostitos</td>\n",
       "      <td>18134</td>\n",
       "    </tr>\n",
       "    <tr>\n",
       "      <th>4</th>\n",
       "      <td>Cobs</td>\n",
       "      <td>18571</td>\n",
       "    </tr>\n",
       "    <tr>\n",
       "      <th>17</th>\n",
       "      <td>Thins</td>\n",
       "      <td>26929</td>\n",
       "    </tr>\n",
       "    <tr>\n",
       "      <th>8</th>\n",
       "      <td>Infuzions</td>\n",
       "      <td>27119</td>\n",
       "    </tr>\n",
       "    <tr>\n",
       "      <th>21</th>\n",
       "      <td>Woolworths</td>\n",
       "      <td>27856</td>\n",
       "    </tr>\n",
       "    <tr>\n",
       "      <th>13</th>\n",
       "      <td>Red</td>\n",
       "      <td>33646</td>\n",
       "    </tr>\n",
       "    <tr>\n",
       "      <th>12</th>\n",
       "      <td>Pringles</td>\n",
       "      <td>48019</td>\n",
       "    </tr>\n",
       "    <tr>\n",
       "      <th>5</th>\n",
       "      <td>Doritos</td>\n",
       "      <td>53816</td>\n",
       "    </tr>\n",
       "    <tr>\n",
       "      <th>15</th>\n",
       "      <td>Smiths</td>\n",
       "      <td>54730</td>\n",
       "    </tr>\n",
       "    <tr>\n",
       "      <th>9</th>\n",
       "      <td>Kettle</td>\n",
       "      <td>79051</td>\n",
       "    </tr>\n",
       "  </tbody>\n",
       "</table>\n",
       "</div>"
      ],
      "text/plain": [
       "         Brand  PROD_QTY\n",
       "6       French      2643\n",
       "0       Burger      2970\n",
       "2      Cheetos      5530\n",
       "14       Smith      5609\n",
       "16    Sunbites      5692\n",
       "1          CCs      8609\n",
       "3     Cheezels      8747\n",
       "20    Tyrrells     12298\n",
       "10     Natural     14106\n",
       "7      GrnWves     14726\n",
       "11         Old     17805\n",
       "19    Twisties     18118\n",
       "18    Tostitos     18134\n",
       "4         Cobs     18571\n",
       "17       Thins     26929\n",
       "8    Infuzions     27119\n",
       "21  Woolworths     27856\n",
       "13         Red     33646\n",
       "12    Pringles     48019\n",
       "5      Doritos     53816\n",
       "15      Smiths     54730\n",
       "9       Kettle     79051"
      ]
     },
     "execution_count": 235,
     "metadata": {},
     "output_type": "execute_result"
    }
   ],
   "source": [
    "brand_totalsales = transaction.groupby('Brand')['PROD_QTY'].sum().reset_index()\n",
    "brand_totalsales = brand_totalsales.sort_values(by = 'PROD_QTY')\n",
    "brand_totalsales"
   ]
  },
  {
   "cell_type": "code",
   "execution_count": 236,
   "id": "a7ef4053",
   "metadata": {
    "scrolled": false
   },
   "outputs": [
    {
     "data": {
      "text/plain": [
       "<Axes: xlabel='Brand', ylabel='PROD_QTY'>"
      ]
     },
     "execution_count": 236,
     "metadata": {},
     "output_type": "execute_result"
    },
    {
     "data": {
      "image/png": "[encoded data removed]",
      "text/plain": [
       "<Figure size 2000x800 with 1 Axes>"
      ]
     },
     "metadata": {},
     "output_type": "display_data"
    }
   ],
   "source": [
    "sns.barplot(x = brand_totalsales['Brand'], y = brand_totalsales['PROD_QTY'],palette ='dark:salmon_r')"
   ]
  },
  {
   "cell_type": "markdown",
   "id": "debf1b70",
   "metadata": {},
   "source": [
    "Kettle has the highest sales compare to other brands with the top two flavours being Kettle Tortilla ChpsHny&Jlpno Chili 150g and Kettle Mozzarella Basil & Pesto 175g (based on product_totalsales). Conversely, French Fries has the lowest sales which might be because the brand only has one product- French Fries Potato Chips 175g."
   ]
  }
 ],
 "metadata": {
  "kernelspec": {
   "display_name": "Python 3 (ipykernel)",
   "language": "python",
   "name": "python3"
  },
  "language_info": {
   "codemirror_mode": {
    "name": "ipython",
    "version": 3
   },
   "file_extension": ".py",
   "mimetype": "text/x-python",
   "name": "python",
   "nbconvert_exporter": "python",
   "pygments_lexer": "ipython3",
   "version": "3.11.5"
  }
 },
 "nbformat": 4,
 "nbformat_minor": 5
}
